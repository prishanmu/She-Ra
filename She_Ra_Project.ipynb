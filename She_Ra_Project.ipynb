{
  "nbformat": 4,
  "nbformat_minor": 0,
  "metadata": {
    "colab": {
      "name": "She-Ra Project.ipynb",
      "provenance": [],
      "toc_visible": true,
      "authorship_tag": "ABX9TyNoAtz5h9PycktRqPOCET+V",
      "include_colab_link": true
    },
    "kernelspec": {
      "name": "python3",
      "display_name": "Python 3"
    }
  },
  "cells": [
    {
      "cell_type": "markdown",
      "metadata": {
        "id": "view-in-github",
        "colab_type": "text"
      },
      "source": [
        "<a href=\"https://colab.research.google.com/github/prishanmu/She-Ra/blob/master/She_Ra_Project.ipynb\" target=\"_parent\"><img src=\"https://colab.research.google.com/assets/colab-badge.svg\" alt=\"Open In Colab\"/></a>"
      ]
    },
    {
      "cell_type": "markdown",
      "metadata": {
        "id": "kny5qFLWTUbS",
        "colab_type": "text"
      },
      "source": [
        "# A Look at the Princesses of Power\n",
        "\n",
        "GitHub Repo: https://github.com/prishanmu/She-Ra\n",
        "\n",
        "**Research Questions**: \n",
        "\n",
        "\n",
        "*   Who are the main or most active characters of this show? Does this change by season? \n",
        "*   What are the most common words used by characters in this show?\n",
        "* What are the most \"important\" words spoken by certain characters on this show? \n",
        "* Data Modeling: Can we predict which lines were spoken by Adora? or Catra? \n",
        "* What are some relationships among words on this show? \n",
        "* Sentiment Analysis by Character and Season\n",
        "\n",
        "\n",
        "\n"
      ]
    },
    {
      "cell_type": "markdown",
      "metadata": {
        "id": "UcHOubwoDvmT",
        "colab_type": "text"
      },
      "source": [
        "# Import Statements & Data"
      ]
    },
    {
      "cell_type": "code",
      "metadata": {
        "id": "twrh80QP-gjL",
        "colab_type": "code",
        "outputId": "ffb4c0c1-fa55-4dea-8892-74e47d7aae6d",
        "colab": {
          "base_uri": "https://localhost:8080/",
          "height": 52
        }
      },
      "source": [
        "import pandas as pd\n",
        "import matplotlib.pyplot as plt\n",
        "import seaborn as sns\n",
        "import numpy as np\n",
        "import re\n",
        "from wordcloud import WordCloud, STOPWORDS \n",
        "from collections import Counter\n",
        "import nltk\n",
        "import string\n"
      ],
      "execution_count": 1,
      "outputs": [
        {
          "output_type": "stream",
          "text": [
            "/usr/local/lib/python3.6/dist-packages/statsmodels/tools/_testing.py:19: FutureWarning: pandas.util.testing is deprecated. Use the functions in the public API at pandas.testing instead.\n",
            "  import pandas.util.testing as tm\n"
          ],
          "name": "stderr"
        }
      ]
    },
    {
      "cell_type": "code",
      "metadata": {
        "id": "zyMaNGCiJJpX",
        "colab_type": "code",
        "outputId": "8a8d9bf1-f356-4ea8-d07d-d9b119e553e3",
        "colab": {
          "base_uri": "https://localhost:8080/",
          "height": 189
        }
      },
      "source": [
        "df = pd.read_csv(\"she_ra_dialogue.csv\")\n",
        "df = df[df.dialogue!=' ']\n",
        "df.dialogue.astype('str')\n",
        "df.head()"
      ],
      "execution_count": 2,
      "outputs": [
        {
          "output_type": "execute_result",
          "data": {
            "text/html": [
              "<div>\n",
              "<style scoped>\n",
              "    .dataframe tbody tr th:only-of-type {\n",
              "        vertical-align: middle;\n",
              "    }\n",
              "\n",
              "    .dataframe tbody tr th {\n",
              "        vertical-align: top;\n",
              "    }\n",
              "\n",
              "    .dataframe thead th {\n",
              "        text-align: right;\n",
              "    }\n",
              "</style>\n",
              "<table border=\"1\" class=\"dataframe\">\n",
              "  <thead>\n",
              "    <tr style=\"text-align: right;\">\n",
              "      <th></th>\n",
              "      <th>character</th>\n",
              "      <th>dialogue</th>\n",
              "      <th>season</th>\n",
              "      <th>episode</th>\n",
              "    </tr>\n",
              "  </thead>\n",
              "  <tbody>\n",
              "    <tr>\n",
              "      <th>0</th>\n",
              "      <td>Adora</td>\n",
              "      <td>. Hey, princess. You looking at me?</td>\n",
              "      <td>1</td>\n",
              "      <td>1</td>\n",
              "    </tr>\n",
              "    <tr>\n",
              "      <th>1</th>\n",
              "      <td>Woman over PA</td>\n",
              "      <td>All squadrons, report to training area immedi...</td>\n",
              "      <td>1</td>\n",
              "      <td>1</td>\n",
              "    </tr>\n",
              "    <tr>\n",
              "      <th>2</th>\n",
              "      <td>Adora</td>\n",
              "      <td>Psst. Anyone seen Catra?</td>\n",
              "      <td>1</td>\n",
              "      <td>1</td>\n",
              "    </tr>\n",
              "    <tr>\n",
              "      <th>4</th>\n",
              "      <td>Adora</td>\n",
              "      <td>Not again.</td>\n",
              "      <td>1</td>\n",
              "      <td>1</td>\n",
              "    </tr>\n",
              "    <tr>\n",
              "      <th>5</th>\n",
              "      <td>Unknown Blue Horde Member</td>\n",
              "      <td>At attention, cadets. Your simulation is abou...</td>\n",
              "      <td>1</td>\n",
              "      <td>1</td>\n",
              "    </tr>\n",
              "  </tbody>\n",
              "</table>\n",
              "</div>"
            ],
            "text/plain": [
              "                   character  ... episode\n",
              "0                      Adora  ...       1\n",
              "1              Woman over PA  ...       1\n",
              "2                      Adora  ...       1\n",
              "4                      Adora  ...       1\n",
              "5  Unknown Blue Horde Member  ...       1\n",
              "\n",
              "[5 rows x 4 columns]"
            ]
          },
          "metadata": {
            "tags": []
          },
          "execution_count": 2
        }
      ]
    },
    {
      "cell_type": "code",
      "metadata": {
        "id": "H0ZH2Rmwk8iG",
        "colab_type": "code",
        "colab": {}
      },
      "source": [
        "# to-do: clean up df's character column - catch any spelling mistakes"
      ],
      "execution_count": 0,
      "outputs": []
    },
    {
      "cell_type": "markdown",
      "metadata": {
        "id": "oISrAeE7EGUW",
        "colab_type": "text"
      },
      "source": [
        "# Who are the main or most active characters of this show? Does this change by season?"
      ]
    },
    {
      "cell_type": "markdown",
      "metadata": {
        "id": "q8DphYViESzU",
        "colab_type": "text"
      },
      "source": [
        "Let's look at the characters with the highest number of lines: "
      ]
    },
    {
      "cell_type": "code",
      "metadata": {
        "id": "NlWwF3BiGX1h",
        "colab_type": "code",
        "outputId": "8fff09f7-c72f-44bd-f77f-6bd3e75dd655",
        "colab": {
          "base_uri": "https://localhost:8080/",
          "height": 643
        }
      },
      "source": [
        "sns.set(style=\"darkgrid\")\n",
        "\n",
        "s = df.character.value_counts()[:10]\n",
        "\n",
        "plt.figure(figsize=(20,10))\n",
        "s.plot(kind=\"bar\")\n",
        "plt.show()\n"
      ],
      "execution_count": 4,
      "outputs": [
        {
          "output_type": "display_data",
          "data": {
            "image/png": "[encoded data removed]",
            "text/plain": [
              "<Figure size 1440x720 with 1 Axes>"
            ]
          },
          "metadata": {
            "tags": []
          }
        }
      ]
    },
    {
      "cell_type": "markdown",
      "metadata": {
        "id": "DEsJNhoKLk0d",
        "colab_type": "text"
      },
      "source": [
        "Unsurprisingly, Adora, aka She-Ra, has the most lines in the show and is the main character. Glimmer, Bow, and Catra, some of the people closest to Adora, are also top contenders for most lines in the show. \n",
        "\n",
        "Let's see how this might differ depending on season. "
      ]
    },
    {
      "cell_type": "code",
      "metadata": {
        "id": "Fh1WyHAJGwXZ",
        "colab_type": "code",
        "outputId": "f9bc4eaf-7544-4b7f-89cd-7b3ffeb77854",
        "colab": {
          "base_uri": "https://localhost:8080/",
          "height": 610
        }
      },
      "source": [
        "sns.set(style=\"darkgrid\", palette = 'husl')\n",
        "\n",
        "plt.figure(figsize=(20,10))\n",
        "\n",
        "ax = sns.countplot(x=\"character\", data=df, hue='season', order=df.character.value_counts().iloc[:10].index)"
      ],
      "execution_count": 5,
      "outputs": [
        {
          "output_type": "display_data",
          "data": {
            "image/png": "[encoded data removed]",
            "text/plain": [
              "<Figure size 1440x720 with 1 Axes>"
            ]
          },
          "metadata": {
            "tags": []
          }
        }
      ]
    },
    {
      "cell_type": "code",
      "metadata": {
        "id": "2sF-G7DpkZmB",
        "colab_type": "code",
        "colab": {}
      },
      "source": [
        "# add line graph across seasons with characters as the hue??"
      ],
      "execution_count": 0,
      "outputs": []
    },
    {
      "cell_type": "markdown",
      "metadata": {
        "id": "YoGyrkWLPQqy",
        "colab_type": "text"
      },
      "source": [
        "**add conclusion here once more seasons are added**"
      ]
    },
    {
      "cell_type": "markdown",
      "metadata": {
        "id": "Ld5jz2EKWXNe",
        "colab_type": "text"
      },
      "source": [
        "# What are the most common words used by characters in this show?"
      ]
    },
    {
      "cell_type": "markdown",
      "metadata": {
        "id": "4LjnVq32XgRe",
        "colab_type": "text"
      },
      "source": [
        "First, lets look at a wordcloud of the most common words on this show: "
      ]
    },
    {
      "cell_type": "code",
      "metadata": {
        "id": "zALegO2U7r8l",
        "colab_type": "code",
        "colab": {}
      },
      "source": [
        "# set up wordcloud\n",
        "stopwords = set(STOPWORDS)\n",
        "\n",
        "x, y = np.ogrid[:300, :300]\n",
        "\n",
        "mask = (x - 150) ** 2 + (y - 150) ** 2 > 130 ** 2\n",
        "mask = 255 * mask.astype(int)\n",
        "\n",
        "wc = WordCloud(background_color=\"white\", max_words=400, stopwords=stopwords, mask = mask)"
      ],
      "execution_count": 0,
      "outputs": []
    },
    {
      "cell_type": "code",
      "metadata": {
        "id": "XNDDHZOEZVUP",
        "colab_type": "code",
        "outputId": "0ded036e-ed9d-42fb-e1c5-03d0f8e2d127",
        "colab": {
          "base_uri": "https://localhost:8080/",
          "height": 574
        }
      },
      "source": [
        "# show wordcloud of most common words in all dialogue\n",
        "all_text = str(df.dialogue.values)\n",
        "all_text = all_text.lower()\n",
        "\n",
        "wordcloud = wc.generate(all_text)\n",
        "\n",
        "plt.figure(figsize=(10,10))\n",
        "\n",
        "plt.imshow(wordcloud)\n",
        "plt.axis(\"off\")\n",
        "plt.show()"
      ],
      "execution_count": 8,
      "outputs": [
        {
          "output_type": "display_data",
          "data": {
            "image/png": "[encoded data removed]",
            "text/plain": [
              "<Figure size 720x720 with 1 Axes>"
            ]
          },
          "metadata": {
            "tags": []
          }
        }
      ]
    },
    {
      "cell_type": "markdown",
      "metadata": {
        "id": "tHqteSjGbRcY",
        "colab_type": "text"
      },
      "source": [
        "Now, let's look at the most common word spoken by the 20 most prominent characters. "
      ]
    },
    {
      "cell_type": "code",
      "metadata": {
        "id": "nzmeS2aeMYXa",
        "colab_type": "code",
        "outputId": "218f19b2-3b6d-423a-854e-d59556a9d55d",
        "colab": {
          "base_uri": "https://localhost:8080/",
          "height": 52
        }
      },
      "source": [
        "from nltk.corpus import stopwords\n",
        "nltk.download('stopwords')\n",
        "\n",
        "stopwords_nltk = list(stopwords.words('english'))"
      ],
      "execution_count": 9,
      "outputs": [
        {
          "output_type": "stream",
          "text": [
            "[nltk_data] Downloading package stopwords to /root/nltk_data...\n",
            "[nltk_data]   Unzipping corpora/stopwords.zip.\n"
          ],
          "name": "stdout"
        }
      ]
    },
    {
      "cell_type": "code",
      "metadata": {
        "id": "3wawFEUhmL4U",
        "colab_type": "code",
        "colab": {}
      },
      "source": [
        "punctuations = string.punctuation + ''"
      ],
      "execution_count": 0,
      "outputs": []
    },
    {
      "cell_type": "code",
      "metadata": {
        "id": "aVwKqngsiajP",
        "colab_type": "code",
        "colab": {}
      },
      "source": [
        "# word counter function\n",
        "\n",
        "def ct(text):\n",
        "  new_text=[]\n",
        "  for words in text:\n",
        "    words = words.split()\n",
        "    for word in words:\n",
        "      word = str(word)\n",
        "      word = word.lower()\n",
        "      if word not in stopwords_nltk:\n",
        "        new_word=''\n",
        "        for char in word:\n",
        "          if char not in punctuations:\n",
        "            new_word = new_word + char\n",
        "        new_text.append(new_word)\n",
        "        if '' in new_text: \n",
        "          new_text.remove('')\n",
        "    \n",
        "  total = len(new_text)\n",
        "  c = Counter(new_text)\n",
        "  word = c.most_common(1)[0][0]\n",
        "  word_count = c.most_common(1)[0][1]\n",
        "  return word, word_count, total, c, new_text"
      ],
      "execution_count": 0,
      "outputs": []
    },
    {
      "cell_type": "code",
      "metadata": {
        "id": "plmCf0Y-gMRt",
        "colab_type": "code",
        "colab": {}
      },
      "source": [
        "top_20_characters = list(df.character.value_counts().iloc[:20].index)\n",
        "\n",
        "most_common_word = []\n",
        "word_count = []\n",
        "word_proportion = []\n",
        "\n",
        "for ch in top_20_characters: \n",
        "  s = df[df.character == ch]\n",
        "  text = list(s.dialogue.values)\n",
        "  word, count, total, c, text = ct(text)\n",
        "  most_common_word.append(word)\n",
        "  word_count.append(count)\n",
        "  proportion = str(float(count) / float(total) * 100) + '%'\n",
        "  word_proportion.append(proportion)\n"
      ],
      "execution_count": 0,
      "outputs": []
    },
    {
      "cell_type": "markdown",
      "metadata": {
        "id": "6ilrGNZCnOTU",
        "colab_type": "text"
      },
      "source": [
        "Below is a table of the most common word spoken by the 20 characters with the most lines: "
      ]
    },
    {
      "cell_type": "code",
      "metadata": {
        "id": "ytzX67kcaIo-",
        "colab_type": "code",
        "outputId": "4a2b4cb0-1402-4eb6-b835-810eb654fde5",
        "colab": {
          "base_uri": "https://localhost:8080/",
          "height": 634
        }
      },
      "source": [
        "most_common_word_df = pd.DataFrame(data = {'character':top_20_characters, 'most common word':most_common_word, 'number of instances': word_count, 'proportion of dialogue': word_proportion})\n",
        "print(\"Most Common Word Spoken By the 20 Most Prominent Characters\")\n",
        "most_common_word_df"
      ],
      "execution_count": 13,
      "outputs": [
        {
          "output_type": "stream",
          "text": [
            "Most Common Word Spoken By the 20 Most Prominent Characters\n"
          ],
          "name": "stdout"
        },
        {
          "output_type": "execute_result",
          "data": {
            "text/html": [
              "<div>\n",
              "<style scoped>\n",
              "    .dataframe tbody tr th:only-of-type {\n",
              "        vertical-align: middle;\n",
              "    }\n",
              "\n",
              "    .dataframe tbody tr th {\n",
              "        vertical-align: top;\n",
              "    }\n",
              "\n",
              "    .dataframe thead th {\n",
              "        text-align: right;\n",
              "    }\n",
              "</style>\n",
              "<table border=\"1\" class=\"dataframe\">\n",
              "  <thead>\n",
              "    <tr style=\"text-align: right;\">\n",
              "      <th></th>\n",
              "      <th>character</th>\n",
              "      <th>most common word</th>\n",
              "      <th>number of instances</th>\n",
              "      <th>proportion of dialogue</th>\n",
              "    </tr>\n",
              "  </thead>\n",
              "  <tbody>\n",
              "    <tr>\n",
              "      <th>0</th>\n",
              "      <td>Adora</td>\n",
              "      <td>know</td>\n",
              "      <td>81</td>\n",
              "      <td>1.7790467823413134%</td>\n",
              "    </tr>\n",
              "    <tr>\n",
              "      <th>1</th>\n",
              "      <td>Glimmer</td>\n",
              "      <td>im</td>\n",
              "      <td>54</td>\n",
              "      <td>1.5579919215233697%</td>\n",
              "    </tr>\n",
              "    <tr>\n",
              "      <th>2</th>\n",
              "      <td>Bow</td>\n",
              "      <td>glimmer</td>\n",
              "      <td>69</td>\n",
              "      <td>2.3622047244094486%</td>\n",
              "    </tr>\n",
              "    <tr>\n",
              "      <th>3</th>\n",
              "      <td>Catra</td>\n",
              "      <td>adora</td>\n",
              "      <td>62</td>\n",
              "      <td>2.3108460678345133%</td>\n",
              "    </tr>\n",
              "    <tr>\n",
              "      <th>4</th>\n",
              "      <td>Scorpia</td>\n",
              "      <td>catra</td>\n",
              "      <td>38</td>\n",
              "      <td>2.2028985507246377%</td>\n",
              "    </tr>\n",
              "    <tr>\n",
              "      <th>5</th>\n",
              "      <td>Entrapta</td>\n",
              "      <td>it</td>\n",
              "      <td>24</td>\n",
              "      <td>1.9138755980861244%</td>\n",
              "    </tr>\n",
              "    <tr>\n",
              "      <th>6</th>\n",
              "      <td>She-Ra</td>\n",
              "      <td>no</td>\n",
              "      <td>17</td>\n",
              "      <td>2.8052805280528053%</td>\n",
              "    </tr>\n",
              "    <tr>\n",
              "      <th>7</th>\n",
              "      <td>Swift Wind</td>\n",
              "      <td>im</td>\n",
              "      <td>18</td>\n",
              "      <td>2.553191489361702%</td>\n",
              "    </tr>\n",
              "    <tr>\n",
              "      <th>8</th>\n",
              "      <td>Sea Hawk</td>\n",
              "      <td>im</td>\n",
              "      <td>15</td>\n",
              "      <td>1.935483870967742%</td>\n",
              "    </tr>\n",
              "    <tr>\n",
              "      <th>9</th>\n",
              "      <td>Mermista</td>\n",
              "      <td>uh</td>\n",
              "      <td>9</td>\n",
              "      <td>1.8556701030927836%</td>\n",
              "    </tr>\n",
              "    <tr>\n",
              "      <th>10</th>\n",
              "      <td>Shadow Weaver</td>\n",
              "      <td>adora</td>\n",
              "      <td>23</td>\n",
              "      <td>4.204753199268739%</td>\n",
              "    </tr>\n",
              "    <tr>\n",
              "      <th>11</th>\n",
              "      <td>Perfuma</td>\n",
              "      <td>shera</td>\n",
              "      <td>13</td>\n",
              "      <td>2.7777777777777777%</td>\n",
              "    </tr>\n",
              "    <tr>\n",
              "      <th>12</th>\n",
              "      <td>Angella</td>\n",
              "      <td>glimmer</td>\n",
              "      <td>19</td>\n",
              "      <td>4.75%</td>\n",
              "    </tr>\n",
              "    <tr>\n",
              "      <th>13</th>\n",
              "      <td>Frosta</td>\n",
              "      <td>you</td>\n",
              "      <td>7</td>\n",
              "      <td>1.9498607242339834%</td>\n",
              "    </tr>\n",
              "    <tr>\n",
              "      <th>14</th>\n",
              "      <td>Light Hope</td>\n",
              "      <td>adora</td>\n",
              "      <td>10</td>\n",
              "      <td>2.6178010471204187%</td>\n",
              "    </tr>\n",
              "    <tr>\n",
              "      <th>15</th>\n",
              "      <td>Razz</td>\n",
              "      <td>dearie</td>\n",
              "      <td>13</td>\n",
              "      <td>3.7900874635568513%</td>\n",
              "    </tr>\n",
              "    <tr>\n",
              "      <th>16</th>\n",
              "      <td>Lonnie</td>\n",
              "      <td>got</td>\n",
              "      <td>6</td>\n",
              "      <td>2.3255813953488373%</td>\n",
              "    </tr>\n",
              "    <tr>\n",
              "      <th>17</th>\n",
              "      <td>Hordak</td>\n",
              "      <td>force</td>\n",
              "      <td>7</td>\n",
              "      <td>2.046783625730994%</td>\n",
              "    </tr>\n",
              "    <tr>\n",
              "      <th>18</th>\n",
              "      <td>Micah</td>\n",
              "      <td>me</td>\n",
              "      <td>7</td>\n",
              "      <td>2.287581699346405%</td>\n",
              "    </tr>\n",
              "    <tr>\n",
              "      <th>19</th>\n",
              "      <td>Horde Prime</td>\n",
              "      <td>you</td>\n",
              "      <td>7</td>\n",
              "      <td>2.31023102310231%</td>\n",
              "    </tr>\n",
              "  </tbody>\n",
              "</table>\n",
              "</div>"
            ],
            "text/plain": [
              "        character most common word  number of instances proportion of dialogue\n",
              "0           Adora             know                   81    1.7790467823413134%\n",
              "1         Glimmer               im                   54    1.5579919215233697%\n",
              "2             Bow          glimmer                   69    2.3622047244094486%\n",
              "3           Catra            adora                   62    2.3108460678345133%\n",
              "4         Scorpia            catra                   38    2.2028985507246377%\n",
              "5        Entrapta               it                   24    1.9138755980861244%\n",
              "6          She-Ra               no                   17    2.8052805280528053%\n",
              "7      Swift Wind               im                   18     2.553191489361702%\n",
              "8        Sea Hawk               im                   15     1.935483870967742%\n",
              "9        Mermista               uh                    9    1.8556701030927836%\n",
              "10  Shadow Weaver            adora                   23     4.204753199268739%\n",
              "11        Perfuma            shera                   13    2.7777777777777777%\n",
              "12        Angella          glimmer                   19                  4.75%\n",
              "13         Frosta              you                    7    1.9498607242339834%\n",
              "14     Light Hope            adora                   10    2.6178010471204187%\n",
              "15           Razz           dearie                   13    3.7900874635568513%\n",
              "16         Lonnie              got                    6    2.3255813953488373%\n",
              "17         Hordak            force                    7     2.046783625730994%\n",
              "18          Micah               me                    7     2.287581699346405%\n",
              "19    Horde Prime              you                    7      2.31023102310231%"
            ]
          },
          "metadata": {
            "tags": []
          },
          "execution_count": 13
        }
      ]
    },
    {
      "cell_type": "markdown",
      "metadata": {
        "id": "-3trOxXMnaij",
        "colab_type": "text"
      },
      "source": [
        "Most character tend to refer to another character or themselves - showing who is their main focus and priority throughout the show. Some of these characters require the context of the show. For example, Entrapta's most commmon word is \"it,\" which seems uninformative. However, she has a strong affinity to robots and reguarly talks about them, so there is no doubt that her robits are the subject of most of her lines. \n",
        "\n",
        "Interestingly, Adora's most used word is \"know\" and when she is She-Ra, \"no.\" To me, this might be indicative of her goal to seek knowledge - about her own past, about how to save Etheria - but also how she convinces others to have hope, as that is her main role. When she is She-Ra, her role is so defeat villians, and the word \"no\" perfectly summarizes just that. "
      ]
    },
    {
      "cell_type": "markdown",
      "metadata": {
        "id": "Q5PaNwrEpKxU",
        "colab_type": "text"
      },
      "source": [
        "# What are the most \"important\" words spoken by characters on this show? \n",
        "\n",
        "For this, I will be utilizing TF-IDF, as this will filter out the words that are used so often they don't add much meaning to the text analysis. This method will also filter out the words that are used so little they are insignificant. "
      ]
    },
    {
      "cell_type": "code",
      "metadata": {
        "id": "whKDqCsjjXrn",
        "colab_type": "code",
        "colab": {}
      },
      "source": [
        "text = []\n",
        "for line in list(df.dialogue.values): \n",
        "  line = str(line)\n",
        "  line = line.split()\n",
        "  new_line = ''\n",
        "  for word in line: \n",
        "    word = str(word)\n",
        "    word = word.lower()\n",
        "    if word not in stopwords_nltk:\n",
        "      new_word=''\n",
        "      for char in word:\n",
        "        if char not in punctuations:\n",
        "          new_word = new_word + char\n",
        "      new_line = new_line + \" \" + new_word\n",
        "  text.append(new_line)"
      ],
      "execution_count": 0,
      "outputs": []
    },
    {
      "cell_type": "code",
      "metadata": {
        "id": "9mnVsG7kdXnK",
        "colab_type": "code",
        "colab": {
          "base_uri": "https://localhost:8080/",
          "height": 54
        },
        "outputId": "67f78653-6cc8-4f60-f496-49288e5bd195"
      },
      "source": [
        "print(text[0:10])"
      ],
      "execution_count": 32,
      "outputs": [
        {
          "output_type": "stream",
          "text": [
            "['  hey princess looking me', ' squadrons report training area immediately evaluation', ' psst anyone seen catra', ' again', ' attention cadets simulation begin heres scenario passing treacherous whispering woods reach heart rebel insurgency bright moon', ' mission defeat queen princesses liberate bright moon lord hordaks name wheres catra', ' here promise', ' mmhmm whispering woods full princesses vicious violent instigatorsthey take given chance give them good luck recruits', ' watch out', ' oh no no no no no']\n"
          ],
          "name": "stdout"
        }
      ]
    },
    {
      "cell_type": "code",
      "metadata": {
        "id": "jEx5xJMAunpz",
        "colab_type": "code",
        "colab": {}
      },
      "source": [
        "from sklearn.feature_extraction.text import CountVectorizer\n",
        "\n",
        "# to-do: parameter tune later\n",
        "\n",
        "cv = CountVectorizer(strip_accents='ascii',\n",
        "                     lowercase=True,\n",
        "                     tokenizer=None,\n",
        "                     stop_words='english', #enlgish stop words dictionary\n",
        "                     ngram_range=(1, 1), #broken down into one word units, you can change to 1+2 word units, etc\n",
        "                     max_df=1.0,\n",
        "                     min_df=0,\n",
        "                     max_features=None,\n",
        "                     vocabulary=None)"
      ],
      "execution_count": 0,
      "outputs": []
    },
    {
      "cell_type": "code",
      "metadata": {
        "id": "gW3207oiunoJ",
        "colab_type": "code",
        "colab": {}
      },
      "source": [
        "cv_text = cv.fit_transform(text)"
      ],
      "execution_count": 0,
      "outputs": []
    },
    {
      "cell_type": "code",
      "metadata": {
        "id": "pIaUwvO1unld",
        "colab_type": "code",
        "colab": {
          "base_uri": "https://localhost:8080/",
          "height": 777
        },
        "outputId": "1db4d525-cab8-4b53-87fa-42d9569c1790"
      },
      "source": [
        "from sklearn.feature_extraction.text import TfidfTransformer\n",
        "\n",
        "tfidf = TfidfTransformer(norm='l2', use_idf=True, smooth_idf=False, sublinear_tf=False).fit(cv_text)\n",
        "\n",
        "tfidf_df = pd.DataFrame(tfidf.idf_, index=cv.get_feature_names(),columns=[\"weights\"])\n",
        "print(\"top 25 most important words\")\n",
        "tfidf_df.sort_values(by=['weights']).head(25)"
      ],
      "execution_count": 38,
      "outputs": [
        {
          "output_type": "stream",
          "text": [
            "top 25 most important words\n"
          ],
          "name": "stdout"
        },
        {
          "output_type": "execute_result",
          "data": {
            "text/html": [
              "<div>\n",
              "<style scoped>\n",
              "    .dataframe tbody tr th:only-of-type {\n",
              "        vertical-align: middle;\n",
              "    }\n",
              "\n",
              "    .dataframe tbody tr th {\n",
              "        vertical-align: top;\n",
              "    }\n",
              "\n",
              "    .dataframe thead th {\n",
              "        text-align: right;\n",
              "    }\n",
              "</style>\n",
              "<table border=\"1\" class=\"dataframe\">\n",
              "  <thead>\n",
              "    <tr style=\"text-align: right;\">\n",
              "      <th></th>\n",
              "      <th>weights</th>\n",
              "    </tr>\n",
              "  </thead>\n",
              "  <tbody>\n",
              "    <tr>\n",
              "      <th>im</th>\n",
              "      <td>3.620014</td>\n",
              "    </tr>\n",
              "    <tr>\n",
              "      <th>know</th>\n",
              "      <td>3.727725</td>\n",
              "    </tr>\n",
              "    <tr>\n",
              "      <th>adora</th>\n",
              "      <td>3.893710</td>\n",
              "    </tr>\n",
              "    <tr>\n",
              "      <th>glimmer</th>\n",
              "      <td>4.054052</td>\n",
              "    </tr>\n",
              "    <tr>\n",
              "      <th>like</th>\n",
              "      <td>4.059502</td>\n",
              "    </tr>\n",
              "    <tr>\n",
              "      <th>okay</th>\n",
              "      <td>4.121494</td>\n",
              "    </tr>\n",
              "    <tr>\n",
              "      <th>horde</th>\n",
              "      <td>4.127325</td>\n",
              "    </tr>\n",
              "    <tr>\n",
              "      <th>catra</th>\n",
              "      <td>4.169122</td>\n",
              "    </tr>\n",
              "    <tr>\n",
              "      <th>oh</th>\n",
              "      <td>4.187584</td>\n",
              "    </tr>\n",
              "    <tr>\n",
              "      <th>right</th>\n",
              "      <td>4.292254</td>\n",
              "    </tr>\n",
              "    <tr>\n",
              "      <th>come</th>\n",
              "      <td>4.306144</td>\n",
              "    </tr>\n",
              "    <tr>\n",
              "      <th>need</th>\n",
              "      <td>4.334514</td>\n",
              "    </tr>\n",
              "    <tr>\n",
              "      <th>going</th>\n",
              "      <td>4.341735</td>\n",
              "    </tr>\n",
              "    <tr>\n",
              "      <th>think</th>\n",
              "      <td>4.424801</td>\n",
              "    </tr>\n",
              "    <tr>\n",
              "      <th>time</th>\n",
              "      <td>4.481496</td>\n",
              "    </tr>\n",
              "    <tr>\n",
              "      <th>shera</th>\n",
              "      <td>4.559458</td>\n",
              "    </tr>\n",
              "    <tr>\n",
              "      <th>bow</th>\n",
              "      <td>4.605549</td>\n",
              "    </tr>\n",
              "    <tr>\n",
              "      <th>hey</th>\n",
              "      <td>4.624597</td>\n",
              "    </tr>\n",
              "    <tr>\n",
              "      <th>thats</th>\n",
              "      <td>4.624597</td>\n",
              "    </tr>\n",
              "    <tr>\n",
              "      <th>got</th>\n",
              "      <td>4.694277</td>\n",
              "    </tr>\n",
              "    <tr>\n",
              "      <th>really</th>\n",
              "      <td>4.704640</td>\n",
              "    </tr>\n",
              "    <tr>\n",
              "      <th>uh</th>\n",
              "      <td>4.736389</td>\n",
              "    </tr>\n",
              "    <tr>\n",
              "      <th>good</th>\n",
              "      <td>4.791651</td>\n",
              "    </tr>\n",
              "    <tr>\n",
              "      <th>ive</th>\n",
              "      <td>4.838171</td>\n",
              "    </tr>\n",
              "    <tr>\n",
              "      <th>stop</th>\n",
              "      <td>4.850148</td>\n",
              "    </tr>\n",
              "  </tbody>\n",
              "</table>\n",
              "</div>"
            ],
            "text/plain": [
              "          weights\n",
              "im       3.620014\n",
              "know     3.727725\n",
              "adora    3.893710\n",
              "glimmer  4.054052\n",
              "like     4.059502\n",
              "okay     4.121494\n",
              "horde    4.127325\n",
              "catra    4.169122\n",
              "oh       4.187584\n",
              "right    4.292254\n",
              "come     4.306144\n",
              "need     4.334514\n",
              "going    4.341735\n",
              "think    4.424801\n",
              "time     4.481496\n",
              "shera    4.559458\n",
              "bow      4.605549\n",
              "hey      4.624597\n",
              "thats    4.624597\n",
              "got      4.694277\n",
              "really   4.704640\n",
              "uh       4.736389\n",
              "good     4.791651\n",
              "ive      4.838171\n",
              "stop     4.850148"
            ]
          },
          "metadata": {
            "tags": []
          },
          "execution_count": 38
        }
      ]
    },
    {
      "cell_type": "markdown",
      "metadata": {
        "id": "-gvzB_mOZ0b-",
        "colab_type": "text"
      },
      "source": [
        "# Data Modeling: Data Modeling: Can we predict which lines were spoken by Adora? or Catra? \n",
        "\n",
        "Since the show revolves around these two characters' relationship, I decided to make a model to predict each characters' lines. Let's see how well it works!"
      ]
    },
    {
      "cell_type": "code",
      "metadata": {
        "id": "OYyGUwQxZ9ib",
        "colab_type": "code",
        "colab": {}
      },
      "source": [
        "from sklearn.model_selection import train_test_split\n",
        "\n",
        "X_train, X_test, y_train, y_test = train_test_split(df['dialogue'],\n",
        "                                                    df['character'], test_size=0.33, random_state=42)"
      ],
      "execution_count": 0,
      "outputs": []
    },
    {
      "cell_type": "code",
      "metadata": {
        "id": "ojJa7qQNoX7U",
        "colab_type": "code",
        "colab": {}
      },
      "source": [
        "X_train.dropna(inplace=True)\n",
        "X_test.dropna(inplace=True)"
      ],
      "execution_count": 0,
      "outputs": []
    },
    {
      "cell_type": "code",
      "metadata": {
        "id": "ikAsjxwDnllm",
        "colab_type": "code",
        "colab": {}
      },
      "source": [
        "cv_train = cv.fit_transform(X_train)\n",
        "tfidf = TfidfTransformer(norm='l2', use_idf=True, smooth_idf=False, sublinear_tf=False).fit(cv_train)\n",
        "X_train_processed = tfidf.transform(cv_train)"
      ],
      "execution_count": 0,
      "outputs": []
    },
    {
      "cell_type": "code",
      "metadata": {
        "id": "DPtlm8S9oMIv",
        "colab_type": "code",
        "colab": {}
      },
      "source": [
        "cv_test = cv.transform(X_test)\n",
        "X_test_processed = tfidf.transform(cv_test)"
      ],
      "execution_count": 0,
      "outputs": []
    },
    {
      "cell_type": "markdown",
      "metadata": {
        "id": "5U8HLJP8lZoz",
        "colab_type": "text"
      },
      "source": [
        "## Predicting Adora's lines"
      ]
    },
    {
      "cell_type": "code",
      "metadata": {
        "id": "i6YBjRAYpGJK",
        "colab_type": "code",
        "colab": {}
      },
      "source": [
        "# split classes into Adora = 1, Everyone else = 0"
      ],
      "execution_count": 0,
      "outputs": []
    },
    {
      "cell_type": "markdown",
      "metadata": {
        "id": "WvGeZDQipYr3",
        "colab_type": "text"
      },
      "source": [
        "### Naive Bayes"
      ]
    },
    {
      "cell_type": "code",
      "metadata": {
        "id": "V0Z7G0sCpf1a",
        "colab_type": "code",
        "colab": {}
      },
      "source": [
        ""
      ],
      "execution_count": 0,
      "outputs": []
    },
    {
      "cell_type": "markdown",
      "metadata": {
        "id": "hb-fpxZspgPM",
        "colab_type": "text"
      },
      "source": [
        "### Logistic Regression"
      ]
    },
    {
      "cell_type": "code",
      "metadata": {
        "id": "zZnJmSo9pw9b",
        "colab_type": "code",
        "colab": {}
      },
      "source": [
        ""
      ],
      "execution_count": 0,
      "outputs": []
    },
    {
      "cell_type": "markdown",
      "metadata": {
        "id": "fuXb4321pwWB",
        "colab_type": "text"
      },
      "source": [
        "### SVM"
      ]
    },
    {
      "cell_type": "code",
      "metadata": {
        "id": "X85qMeqGpwCE",
        "colab_type": "code",
        "colab": {}
      },
      "source": [
        ""
      ],
      "execution_count": 0,
      "outputs": []
    },
    {
      "cell_type": "markdown",
      "metadata": {
        "id": "ecYbrM4Cp0Gx",
        "colab_type": "text"
      },
      "source": [
        "### Random Forest"
      ]
    },
    {
      "cell_type": "code",
      "metadata": {
        "id": "qhGLzObyp3cu",
        "colab_type": "code",
        "colab": {}
      },
      "source": [
        ""
      ],
      "execution_count": 0,
      "outputs": []
    },
    {
      "cell_type": "markdown",
      "metadata": {
        "id": "ugKt-sitp2wV",
        "colab_type": "text"
      },
      "source": [
        "### Gradient Boosting"
      ]
    },
    {
      "cell_type": "code",
      "metadata": {
        "id": "npErw3Hup2a4",
        "colab_type": "code",
        "colab": {}
      },
      "source": [
        ""
      ],
      "execution_count": 0,
      "outputs": []
    },
    {
      "cell_type": "markdown",
      "metadata": {
        "id": "7EQSXakppB3L",
        "colab_type": "text"
      },
      "source": [
        "## Predicting Catra's lines"
      ]
    },
    {
      "cell_type": "code",
      "metadata": {
        "id": "M5XpMEULpLgv",
        "colab_type": "code",
        "colab": {}
      },
      "source": [
        "#split classes into Catra = 1, Everyone else = 0"
      ],
      "execution_count": 0,
      "outputs": []
    },
    {
      "cell_type": "markdown",
      "metadata": {
        "colab_type": "text",
        "id": "JgL3HVvzp9Sx"
      },
      "source": [
        "### Naive Bayes"
      ]
    },
    {
      "cell_type": "code",
      "metadata": {
        "colab_type": "code",
        "id": "PJTBxE-zp9Sx",
        "colab": {}
      },
      "source": [
        ""
      ],
      "execution_count": 0,
      "outputs": []
    },
    {
      "cell_type": "markdown",
      "metadata": {
        "colab_type": "text",
        "id": "8M5jWBYap9Sz"
      },
      "source": [
        "### Logistic Regression"
      ]
    },
    {
      "cell_type": "code",
      "metadata": {
        "colab_type": "code",
        "id": "l0u1V_vNp9Sz",
        "colab": {}
      },
      "source": [
        ""
      ],
      "execution_count": 0,
      "outputs": []
    },
    {
      "cell_type": "markdown",
      "metadata": {
        "colab_type": "text",
        "id": "dWnRPze9p9S2"
      },
      "source": [
        "### SVM"
      ]
    },
    {
      "cell_type": "code",
      "metadata": {
        "colab_type": "code",
        "id": "MoR-PGwWp9S3",
        "colab": {}
      },
      "source": [
        ""
      ],
      "execution_count": 0,
      "outputs": []
    },
    {
      "cell_type": "markdown",
      "metadata": {
        "colab_type": "text",
        "id": "AcqARCu0p9S4"
      },
      "source": [
        "### Random Forest"
      ]
    },
    {
      "cell_type": "code",
      "metadata": {
        "colab_type": "code",
        "id": "ku7c5eqTp9S5",
        "colab": {}
      },
      "source": [
        ""
      ],
      "execution_count": 0,
      "outputs": []
    },
    {
      "cell_type": "markdown",
      "metadata": {
        "colab_type": "text",
        "id": "Kuix31w7p9S7"
      },
      "source": [
        "### Gradient Boosting"
      ]
    },
    {
      "cell_type": "code",
      "metadata": {
        "colab_type": "code",
        "id": "xjDH1PuQp9S7",
        "colab": {}
      },
      "source": [
        ""
      ],
      "execution_count": 0,
      "outputs": []
    },
    {
      "cell_type": "markdown",
      "metadata": {
        "id": "-HLK90Lhup5o",
        "colab_type": "text"
      },
      "source": [
        "# What are some relationships among words on this show? \n",
        "\n",
        "For this section, I will be creating a word network graph, showcasing the common bigrams, or pairs, of words used together on this show. I will also be looking at parts of speech within the dialogue. "
      ]
    },
    {
      "cell_type": "code",
      "metadata": {
        "id": "-YlbPZlWu17c",
        "colab_type": "code",
        "colab": {}
      },
      "source": [
        ""
      ],
      "execution_count": 0,
      "outputs": []
    },
    {
      "cell_type": "code",
      "metadata": {
        "id": "ScVGl0xkYprp",
        "colab_type": "code",
        "colab": {}
      },
      "source": [
        ""
      ],
      "execution_count": 0,
      "outputs": []
    }
  ]
}