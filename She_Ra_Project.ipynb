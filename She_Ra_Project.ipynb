{
  "nbformat": 4,
  "nbformat_minor": 0,
  "metadata": {
    "colab": {
      "name": "She-Ra Project.ipynb",
      "provenance": [],
      "toc_visible": true,
      "authorship_tag": "ABX9TyNBdL5kerKg7DcD3G0YNKpk",
      "include_colab_link": true
    },
    "kernelspec": {
      "name": "python3",
      "display_name": "Python 3"
    }
  },
  "cells": [
    {
      "cell_type": "markdown",
      "metadata": {
        "id": "view-in-github",
        "colab_type": "text"
      },
      "source": [
        "<a href=\"https://colab.research.google.com/github/prishanmu/She-Ra/blob/master/She_Ra_Project.ipynb\" target=\"_parent\"><img src=\"https://colab.research.google.com/assets/colab-badge.svg\" alt=\"Open In Colab\"/></a>"
      ]
    },
    {
      "cell_type": "markdown",
      "metadata": {
        "id": "kny5qFLWTUbS",
        "colab_type": "text"
      },
      "source": [
        "# A Look at the Princesses of Power\n",
        "\n",
        "GitHub Repo: https://github.com/prishanmu/She-Ra\n",
        "\n",
        "**Research Questions**: \n",
        "\n",
        "\n",
        "*   Who are the main or most active characters of this show? Does this change by season? \n",
        "*   What are the most common words used by characters in this show?\n",
        "* What are the most \"important\" words spoken by certain characters on this show? \n",
        "* Data Modeling: Can we predict which lines were spoken by Adora? or Catra? \n",
        "* What are some relationships among words on this show? \n",
        "* Sentiment Analysis by Character and Season\n",
        "\n",
        "\n",
        "\n"
      ]
    },
    {
      "cell_type": "markdown",
      "metadata": {
        "id": "UcHOubwoDvmT",
        "colab_type": "text"
      },
      "source": [
        "# Import Statements & Data"
      ]
    },
    {
      "cell_type": "code",
      "metadata": {
        "id": "twrh80QP-gjL",
        "colab_type": "code",
        "outputId": "ffb4c0c1-fa55-4dea-8892-74e47d7aae6d",
        "colab": {
          "base_uri": "https://localhost:8080/",
          "height": 52
        }
      },
      "source": [
        "import pandas as pd\n",
        "import matplotlib.pyplot as plt\n",
        "import seaborn as sns\n",
        "import numpy as np\n",
        "import re\n",
        "from wordcloud import WordCloud, STOPWORDS \n",
        "from collections import Counter\n",
        "import nltk\n",
        "import string\n"
      ],
      "execution_count": 1,
      "outputs": [
        {
          "output_type": "stream",
          "text": [
            "/usr/local/lib/python3.6/dist-packages/statsmodels/tools/_testing.py:19: FutureWarning: pandas.util.testing is deprecated. Use the functions in the public API at pandas.testing instead.\n",
            "  import pandas.util.testing as tm\n"
          ],
          "name": "stderr"
        }
      ]
    },
    {
      "cell_type": "code",
      "metadata": {
        "id": "zyMaNGCiJJpX",
        "colab_type": "code",
        "outputId": "8a8d9bf1-f356-4ea8-d07d-d9b119e553e3",
        "colab": {
          "base_uri": "https://localhost:8080/",
          "height": 189
        }
      },
      "source": [
        "df = pd.read_csv(\"she_ra_dialogue.csv\")\n",
        "df = df[df.dialogue!=' ']\n",
        "df.dialogue.astype('str')\n",
        "df.head()"
      ],
      "execution_count": 2,
      "outputs": [
        {
          "output_type": "execute_result",
          "data": {
            "text/html": [
              "<div>\n",
              "<style scoped>\n",
              "    .dataframe tbody tr th:only-of-type {\n",
              "        vertical-align: middle;\n",
              "    }\n",
              "\n",
              "    .dataframe tbody tr th {\n",
              "        vertical-align: top;\n",
              "    }\n",
              "\n",
              "    .dataframe thead th {\n",
              "        text-align: right;\n",
              "    }\n",
              "</style>\n",
              "<table border=\"1\" class=\"dataframe\">\n",
              "  <thead>\n",
              "    <tr style=\"text-align: right;\">\n",
              "      <th></th>\n",
              "      <th>character</th>\n",
              "      <th>dialogue</th>\n",
              "      <th>season</th>\n",
              "      <th>episode</th>\n",
              "    </tr>\n",
              "  </thead>\n",
              "  <tbody>\n",
              "    <tr>\n",
              "      <th>0</th>\n",
              "      <td>Adora</td>\n",
              "      <td>. Hey, princess. You looking at me?</td>\n",
              "      <td>1</td>\n",
              "      <td>1</td>\n",
              "    </tr>\n",
              "    <tr>\n",
              "      <th>1</th>\n",
              "      <td>Woman over PA</td>\n",
              "      <td>All squadrons, report to training area immedi...</td>\n",
              "      <td>1</td>\n",
              "      <td>1</td>\n",
              "    </tr>\n",
              "    <tr>\n",
              "      <th>2</th>\n",
              "      <td>Adora</td>\n",
              "      <td>Psst. Anyone seen Catra?</td>\n",
              "      <td>1</td>\n",
              "      <td>1</td>\n",
              "    </tr>\n",
              "    <tr>\n",
              "      <th>4</th>\n",
              "      <td>Adora</td>\n",
              "      <td>Not again.</td>\n",
              "      <td>1</td>\n",
              "      <td>1</td>\n",
              "    </tr>\n",
              "    <tr>\n",
              "      <th>5</th>\n",
              "      <td>Unknown Blue Horde Member</td>\n",
              "      <td>At attention, cadets. Your simulation is abou...</td>\n",
              "      <td>1</td>\n",
              "      <td>1</td>\n",
              "    </tr>\n",
              "  </tbody>\n",
              "</table>\n",
              "</div>"
            ],
            "text/plain": [
              "                   character  ... episode\n",
              "0                      Adora  ...       1\n",
              "1              Woman over PA  ...       1\n",
              "2                      Adora  ...       1\n",
              "4                      Adora  ...       1\n",
              "5  Unknown Blue Horde Member  ...       1\n",
              "\n",
              "[5 rows x 4 columns]"
            ]
          },
          "metadata": {
            "tags": []
          },
          "execution_count": 2
        }
      ]
    },
    {
      "cell_type": "code",
      "metadata": {
        "id": "H0ZH2Rmwk8iG",
        "colab_type": "code",
        "colab": {}
      },
      "source": [
        "# to-do: clean up df's character column - catch any spelling mistakes"
      ],
      "execution_count": 0,
      "outputs": []
    },
    {
      "cell_type": "markdown",
      "metadata": {
        "id": "oISrAeE7EGUW",
        "colab_type": "text"
      },
      "source": [
        "# Who are the main or most active characters of this show? Does this change by season?"
      ]
    },
    {
      "cell_type": "markdown",
      "metadata": {
        "id": "q8DphYViESzU",
        "colab_type": "text"
      },
      "source": [
        "Let's look at the characters with the highest number of lines: "
      ]
    },
    {
      "cell_type": "code",
      "metadata": {
        "id": "NlWwF3BiGX1h",
        "colab_type": "code",
        "outputId": "8fff09f7-c72f-44bd-f77f-6bd3e75dd655",
        "colab": {
          "base_uri": "https://localhost:8080/",
          "height": 643
        }
      },
      "source": [
        "sns.set(style=\"darkgrid\")\n",
        "\n",
        "s = df.character.value_counts()[:10]\n",
        "\n",
        "plt.figure(figsize=(20,10))\n",
        "s.plot(kind=\"bar\")\n",
        "plt.show()\n"
      ],
      "execution_count": 4,
      "outputs": [
        {
          "output_type": "display_data",
          "data": {
            "image/png": "[encoded data removed]",
            "text/plain": [
              "<Figure size 1440x720 with 1 Axes>"
            ]
          },
          "metadata": {
            "tags": []
          }
        }
      ]
    },
    {
      "cell_type": "markdown",
      "metadata": {
        "id": "DEsJNhoKLk0d",
        "colab_type": "text"
      },
      "source": [
        "Unsurprisingly, Adora, aka She-Ra, has the most lines in the show and is the main character. Glimmer, Bow, and Catra, some of the people closest to Adora, are also top contenders for most lines in the show. \n",
        "\n",
        "Let's see how this might differ depending on season. "
      ]
    },
    {
      "cell_type": "code",
      "metadata": {
        "id": "Fh1WyHAJGwXZ",
        "colab_type": "code",
        "outputId": "f9bc4eaf-7544-4b7f-89cd-7b3ffeb77854",
        "colab": {
          "base_uri": "https://localhost:8080/",
          "height": 610
        }
      },
      "source": [
        "sns.set(style=\"darkgrid\", palette = 'husl')\n",
        "\n",
        "plt.figure(figsize=(20,10))\n",
        "\n",
        "ax = sns.countplot(x=\"character\", data=df, hue='season', order=df.character.value_counts().iloc[:10].index)"
      ],
      "execution_count": 5,
      "outputs": [
        {
          "output_type": "display_data",
          "data": {
            "image/png": "[encoded data removed]",
            "text/plain": [
              "<Figure size 1440x720 with 1 Axes>"
            ]
          },
          "metadata": {
            "tags": []
          }
        }
      ]
    },
    {
      "cell_type": "code",
      "metadata": {
        "id": "2sF-G7DpkZmB",
        "colab_type": "code",
        "colab": {}
      },
      "source": [
        "# add line graph across seasons with characters as the hue??"
      ],
      "execution_count": 0,
      "outputs": []
    },
    {
      "cell_type": "markdown",
      "metadata": {
        "id": "YoGyrkWLPQqy",
        "colab_type": "text"
      },
      "source": [
        "**add conclusion here once more seasons are added**"
      ]
    },
    {
      "cell_type": "markdown",
      "metadata": {
        "id": "Ld5jz2EKWXNe",
        "colab_type": "text"
      },
      "source": [
        "# What are the most common words used by characters in this show?"
      ]
    },
    {
      "cell_type": "markdown",
      "metadata": {
        "id": "4LjnVq32XgRe",
        "colab_type": "text"
      },
      "source": [
        "First, lets look at a wordcloud of the most common words on this show: "
      ]
    },
    {
      "cell_type": "code",
      "metadata": {
        "id": "zALegO2U7r8l",
        "colab_type": "code",
        "colab": {}
      },
      "source": [
        "# set up wordcloud\n",
        "stopwords = set(STOPWORDS)\n",
        "\n",
        "x, y = np.ogrid[:300, :300]\n",
        "\n",
        "mask = (x - 150) ** 2 + (y - 150) ** 2 > 130 ** 2\n",
        "mask = 255 * mask.astype(int)\n",
        "\n",
        "wc = WordCloud(background_color=\"white\", max_words=400, stopwords=stopwords, mask = mask)"
      ],
      "execution_count": 0,
      "outputs": []
    },
    {
      "cell_type": "code",
      "metadata": {
        "id": "XNDDHZOEZVUP",
        "colab_type": "code",
        "outputId": "0ded036e-ed9d-42fb-e1c5-03d0f8e2d127",
        "colab": {
          "base_uri": "https://localhost:8080/",
          "height": 574
        }
      },
      "source": [
        "# show wordcloud of most common words in all dialogue\n",
        "all_text = str(df.dialogue.values)\n",
        "all_text = all_text.lower()\n",
        "\n",
        "wordcloud = wc.generate(all_text)\n",
        "\n",
        "plt.figure(figsize=(10,10))\n",
        "\n",
        "plt.imshow(wordcloud)\n",
        "plt.axis(\"off\")\n",
        "plt.show()"
      ],
      "execution_count": 8,
      "outputs": [
        {
          "output_type": "display_data",
          "data": {
            "image/png": "[encoded data removed]",
            "text/plain": [
              "<Figure size 720x720 with 1 Axes>"
            ]
          },
          "metadata": {
            "tags": []
          }
        }
      ]
    },
    {
      "cell_type": "markdown",
      "metadata": {
        "id": "tHqteSjGbRcY",
        "colab_type": "text"
      },
      "source": [
        "Now, let's look at the most common word spoken by the 20 most prominent characters. "
      ]
    },
    {
      "cell_type": "code",
      "metadata": {
        "id": "nzmeS2aeMYXa",
        "colab_type": "code",
        "outputId": "218f19b2-3b6d-423a-854e-d59556a9d55d",
        "colab": {
          "base_uri": "https://localhost:8080/",
          "height": 52
        }
      },
      "source": [
        "from nltk.corpus import stopwords\n",
        "nltk.download('stopwords')\n",
        "\n",
        "stopwords_nltk = list(stopwords.words('english'))"
      ],
      "execution_count": 9,
      "outputs": [
        {
          "output_type": "stream",
          "text": [
            "[nltk_data] Downloading package stopwords to /root/nltk_data...\n",
            "[nltk_data]   Unzipping corpora/stopwords.zip.\n"
          ],
          "name": "stdout"
        }
      ]
    },
    {
      "cell_type": "code",
      "metadata": {
        "id": "3wawFEUhmL4U",
        "colab_type": "code",
        "colab": {}
      },
      "source": [
        "punctuations = string.punctuation + ''"
      ],
      "execution_count": 0,
      "outputs": []
    },
    {
      "cell_type": "code",
      "metadata": {
        "id": "aVwKqngsiajP",
        "colab_type": "code",
        "colab": {}
      },
      "source": [
        "# word counter function\n",
        "\n",
        "def ct(text):\n",
        "  new_text=[]\n",
        "  for words in text:\n",
        "    words = words.split()\n",
        "    for word in words:\n",
        "      word = str(word)\n",
        "      word = word.lower()\n",
        "      if word not in stopwords_nltk:\n",
        "        new_word=''\n",
        "        for char in word:\n",
        "          if char not in punctuations:\n",
        "            new_word = new_word + char\n",
        "        new_text.append(new_word)\n",
        "        if '' in new_text: \n",
        "          new_text.remove('')\n",
        "    \n",
        "  total = len(new_text)\n",
        "  c = Counter(new_text)\n",
        "  word = c.most_common(1)[0][0]\n",
        "  word_count = c.most_common(1)[0][1]\n",
        "  return word, word_count, total, c, new_text"
      ],
      "execution_count": 0,
      "outputs": []
    },
    {
      "cell_type": "code",
      "metadata": {
        "id": "plmCf0Y-gMRt",
        "colab_type": "code",
        "colab": {}
      },
      "source": [
        "top_20_characters = list(df.character.value_counts().iloc[:20].index)\n",
        "\n",
        "most_common_word = []\n",
        "word_count = []\n",
        "word_proportion = []\n",
        "\n",
        "for ch in top_20_characters: \n",
        "  s = df[df.character == ch]\n",
        "  text = list(s.dialogue.values)\n",
        "  word, count, total, c, text = ct(text)\n",
        "  most_common_word.append(word)\n",
        "  word_count.append(count)\n",
        "  proportion = str(float(count) / float(total) * 100) + '%'\n",
        "  word_proportion.append(proportion)\n"
      ],
      "execution_count": 0,
      "outputs": []
    },
    {
      "cell_type": "markdown",
      "metadata": {
        "id": "6ilrGNZCnOTU",
        "colab_type": "text"
      },
      "source": [
        "Below is a table of the most common word spoken by the 20 characters with the most lines: "
      ]
    },
    {
      "cell_type": "code",
      "metadata": {
        "id": "ytzX67kcaIo-",
        "colab_type": "code",
        "outputId": "4a2b4cb0-1402-4eb6-b835-810eb654fde5",
        "colab": {
          "base_uri": "https://localhost:8080/",
          "height": 634
        }
      },
      "source": [
        "most_common_word_df = pd.DataFrame(data = {'character':top_20_characters, 'most common word':most_common_word, 'number of instances': word_count, 'proportion of dialogue': word_proportion})\n",
        "print(\"Most Common Word Spoken By the 20 Most Prominent Characters\")\n",
        "most_common_word_df"
      ],
      "execution_count": 13,
      "outputs": [
        {
          "output_type": "stream",
          "text": [
            "Most Common Word Spoken By the 20 Most Prominent Characters\n"
          ],
          "name": "stdout"
        },
        {
          "output_type": "execute_result",
          "data": {
            "text/html": [
              "<div>\n",
              "<style scoped>\n",
              "    .dataframe tbody tr th:only-of-type {\n",
              "        vertical-align: middle;\n",
              "    }\n",
              "\n",
              "    .dataframe tbody tr th {\n",
              "        vertical-align: top;\n",
              "    }\n",
              "\n",
              "    .dataframe thead th {\n",
              "        text-align: right;\n",
              "    }\n",
              "</style>\n",
              "<table border=\"1\" class=\"dataframe\">\n",
              "  <thead>\n",
              "    <tr style=\"text-align: right;\">\n",
              "      <th></th>\n",
              "      <th>character</th>\n",
              "      <th>most common word</th>\n",
              "      <th>number of instances</th>\n",
              "      <th>proportion of dialogue</th>\n",
              "    </tr>\n",
              "  </thead>\n",
              "  <tbody>\n",
              "    <tr>\n",
              "      <th>0</th>\n",
              "      <td>Adora</td>\n",
              "      <td>know</td>\n",
              "      <td>81</td>\n",
              "      <td>1.7790467823413134%</td>\n",
              "    </tr>\n",
              "    <tr>\n",
              "      <th>1</th>\n",
              "      <td>Glimmer</td>\n",
              "      <td>im</td>\n",
              "      <td>54</td>\n",
              "      <td>1.5579919215233697%</td>\n",
              "    </tr>\n",
              "    <tr>\n",
              "      <th>2</th>\n",
              "      <td>Bow</td>\n",
              "      <td>glimmer</td>\n",
              "      <td>69</td>\n",
              "      <td>2.3622047244094486%</td>\n",
              "    </tr>\n",
              "    <tr>\n",
              "      <th>3</th>\n",
              "      <td>Catra</td>\n",
              "      <td>adora</td>\n",
              "      <td>62</td>\n",
              "      <td>2.3108460678345133%</td>\n",
              "    </tr>\n",
              "    <tr>\n",
              "      <th>4</th>\n",
              "      <td>Scorpia</td>\n",
              "      <td>catra</td>\n",
              "      <td>38</td>\n",
              "      <td>2.2028985507246377%</td>\n",
              "    </tr>\n",
              "    <tr>\n",
              "      <th>5</th>\n",
              "      <td>Entrapta</td>\n",
              "      <td>it</td>\n",
              "      <td>24</td>\n",
              "      <td>1.9138755980861244%</td>\n",
              "    </tr>\n",
              "    <tr>\n",
              "      <th>6</th>\n",
              "      <td>She-Ra</td>\n",
              "      <td>no</td>\n",
              "      <td>17</td>\n",
              "      <td>2.8052805280528053%</td>\n",
              "    </tr>\n",
              "    <tr>\n",
              "      <th>7</th>\n",
              "      <td>Swift Wind</td>\n",
              "      <td>im</td>\n",
              "      <td>18</td>\n",
              "      <td>2.553191489361702%</td>\n",
              "    </tr>\n",
              "    <tr>\n",
              "      <th>8</th>\n",
              "      <td>Sea Hawk</td>\n",
              "      <td>im</td>\n",
              "      <td>15</td>\n",
              "      <td>1.935483870967742%</td>\n",
              "    </tr>\n",
              "    <tr>\n",
              "      <th>9</th>\n",
              "      <td>Mermista</td>\n",
              "      <td>uh</td>\n",
              "      <td>9</td>\n",
              "      <td>1.8556701030927836%</td>\n",
              "    </tr>\n",
              "    <tr>\n",
              "      <th>10</th>\n",
              "      <td>Shadow Weaver</td>\n",
              "      <td>adora</td>\n",
              "      <td>23</td>\n",
              "      <td>4.204753199268739%</td>\n",
              "    </tr>\n",
              "    <tr>\n",
              "      <th>11</th>\n",
              "      <td>Perfuma</td>\n",
              "      <td>shera</td>\n",
              "      <td>13</td>\n",
              "      <td>2.7777777777777777%</td>\n",
              "    </tr>\n",
              "    <tr>\n",
              "      <th>12</th>\n",
              "      <td>Angella</td>\n",
              "      <td>glimmer</td>\n",
              "      <td>19</td>\n",
              "      <td>4.75%</td>\n",
              "    </tr>\n",
              "    <tr>\n",
              "      <th>13</th>\n",
              "      <td>Frosta</td>\n",
              "      <td>you</td>\n",
              "      <td>7</td>\n",
              "      <td>1.9498607242339834%</td>\n",
              "    </tr>\n",
              "    <tr>\n",
              "      <th>14</th>\n",
              "      <td>Light Hope</td>\n",
              "      <td>adora</td>\n",
              "      <td>10</td>\n",
              "      <td>2.6178010471204187%</td>\n",
              "    </tr>\n",
              "    <tr>\n",
              "      <th>15</th>\n",
              "      <td>Razz</td>\n",
              "      <td>dearie</td>\n",
              "      <td>13</td>\n",
              "      <td>3.7900874635568513%</td>\n",
              "    </tr>\n",
              "    <tr>\n",
              "      <th>16</th>\n",
              "      <td>Lonnie</td>\n",
              "      <td>got</td>\n",
              "      <td>6</td>\n",
              "      <td>2.3255813953488373%</td>\n",
              "    </tr>\n",
              "    <tr>\n",
              "      <th>17</th>\n",
              "      <td>Hordak</td>\n",
              "      <td>force</td>\n",
              "      <td>7</td>\n",
              "      <td>2.046783625730994%</td>\n",
              "    </tr>\n",
              "    <tr>\n",
              "      <th>18</th>\n",
              "      <td>Micah</td>\n",
              "      <td>me</td>\n",
              "      <td>7</td>\n",
              "      <td>2.287581699346405%</td>\n",
              "    </tr>\n",
              "    <tr>\n",
              "      <th>19</th>\n",
              "      <td>Horde Prime</td>\n",
              "      <td>you</td>\n",
              "      <td>7</td>\n",
              "      <td>2.31023102310231%</td>\n",
              "    </tr>\n",
              "  </tbody>\n",
              "</table>\n",
              "</div>"
            ],
            "text/plain": [
              "        character most common word  number of instances proportion of dialogue\n",
              "0           Adora             know                   81    1.7790467823413134%\n",
              "1         Glimmer               im                   54    1.5579919215233697%\n",
              "2             Bow          glimmer                   69    2.3622047244094486%\n",
              "3           Catra            adora                   62    2.3108460678345133%\n",
              "4         Scorpia            catra                   38    2.2028985507246377%\n",
              "5        Entrapta               it                   24    1.9138755980861244%\n",
              "6          She-Ra               no                   17    2.8052805280528053%\n",
              "7      Swift Wind               im                   18     2.553191489361702%\n",
              "8        Sea Hawk               im                   15     1.935483870967742%\n",
              "9        Mermista               uh                    9    1.8556701030927836%\n",
              "10  Shadow Weaver            adora                   23     4.204753199268739%\n",
              "11        Perfuma            shera                   13    2.7777777777777777%\n",
              "12        Angella          glimmer                   19                  4.75%\n",
              "13         Frosta              you                    7    1.9498607242339834%\n",
              "14     Light Hope            adora                   10    2.6178010471204187%\n",
              "15           Razz           dearie                   13    3.7900874635568513%\n",
              "16         Lonnie              got                    6    2.3255813953488373%\n",
              "17         Hordak            force                    7     2.046783625730994%\n",
              "18          Micah               me                    7     2.287581699346405%\n",
              "19    Horde Prime              you                    7      2.31023102310231%"
            ]
          },
          "metadata": {
            "tags": []
          },
          "execution_count": 13
        }
      ]
    },
    {
      "cell_type": "markdown",
      "metadata": {
        "id": "-3trOxXMnaij",
        "colab_type": "text"
      },
      "source": [
        "Most character tend to refer to another character or themselves - showing who is their main focus and priority throughout the show. Some of these characters require the context of the show. For example, Entrapta's most commmon word is \"it,\" which seems uninformative. However, she has a strong affinity to robots and reguarly talks about them, so there is no doubt that her robits are the subject of most of her lines. \n",
        "\n",
        "Interestingly, Adora's most used word is \"know\" and when she is She-Ra, \"no.\" To me, this might be indicative of her goal to seek knowledge - about her own past, about how to save Etheria - but also how she convinces others to have hope, as that is her main role. When she is She-Ra, her role is so defeat villians, and the word \"no\" perfectly summarizes just that. "
      ]
    },
    {
      "cell_type": "markdown",
      "metadata": {
        "id": "Q5PaNwrEpKxU",
        "colab_type": "text"
      },
      "source": [
        "# What are the most \"important\" words spoken by characters on this show? \n",
        "\n",
        "For this, I will be utilizing TF-IDF, as this will filter out the words that are used so often they don't add much meaning to the text analysis. This method will also filter out the words that are used so little they are insignificant. "
      ]
    },
    {
      "cell_type": "code",
      "metadata": {
        "id": "whKDqCsjjXrn",
        "colab_type": "code",
        "colab": {}
      },
      "source": [
        "text = []\n",
        "for line in list(df.dialogue.values): \n",
        "  line = str(line)\n",
        "  line = line.split()\n",
        "  new_line = ''\n",
        "  for word in line: \n",
        "    word = str(word)\n",
        "    word = word.lower()\n",
        "    if word not in stopwords_nltk:\n",
        "      new_word=''\n",
        "      for char in word:\n",
        "        if char not in punctuations:\n",
        "          new_word = new_word + char\n",
        "      new_line = new_line + \" \" + new_word\n",
        "  text.append(new_line)"
      ],
      "execution_count": 0,
      "outputs": []
    },
    {
      "cell_type": "code",
      "metadata": {
        "id": "9mnVsG7kdXnK",
        "colab_type": "code",
        "colab": {
          "base_uri": "https://localhost:8080/",
          "height": 54
        },
        "outputId": "67f78653-6cc8-4f60-f496-49288e5bd195"
      },
      "source": [
        "print(text[0:10])"
      ],
      "execution_count": 32,
      "outputs": [
        {
          "output_type": "stream",
          "text": [
            "['  hey princess looking me', ' squadrons report training area immediately evaluation', ' psst anyone seen catra', ' again', ' attention cadets simulation begin heres scenario passing treacherous whispering woods reach heart rebel insurgency bright moon', ' mission defeat queen princesses liberate bright moon lord hordaks name wheres catra', ' here promise', ' mmhmm whispering woods full princesses vicious violent instigatorsthey take given chance give them good luck recruits', ' watch out', ' oh no no no no no']\n"
          ],
          "name": "stdout"
        }
      ]
    },
    {
      "cell_type": "code",
      "metadata": {
        "id": "jEx5xJMAunpz",
        "colab_type": "code",
        "colab": {}
      },
      "source": [
        "from sklearn.feature_extraction.text import CountVectorizer\n",
        "\n",
        "# to-do: parameter tune later\n",
        "\n",
        "cv = CountVectorizer(strip_accents='ascii',\n",
        "                     lowercase=True,\n",
        "                     tokenizer=None,\n",
        "                     stop_words='english', #enlgish stop words dictionary\n",
        "                     ngram_range=(1, 1), #broken down into one word units, you can change to 1+2 word units, etc\n",
        "                     max_df=1.0,\n",
        "                     min_df=0,\n",
        "                     max_features=None,\n",
        "                     vocabulary=None)"
      ],
      "execution_count": 0,
      "outputs": []
    },
    {
      "cell_type": "code",
      "metadata": {
        "id": "gW3207oiunoJ",
        "colab_type": "code",
        "colab": {}
      },
      "source": [
        "cv_text = cv.fit_transform(text)"
      ],
      "execution_count": 0,
      "outputs": []
    },
    {
      "cell_type": "code",
      "metadata": {
        "id": "pIaUwvO1unld",
        "colab_type": "code",
        "colab": {
          "base_uri": "https://localhost:8080/",
          "height": 777
        },
        "outputId": "1db4d525-cab8-4b53-87fa-42d9569c1790"
      },
      "source": [
        "from sklearn.feature_extraction.text import TfidfTransformer\n",
        "\n",
        "tfidf = TfidfTransformer(norm='l2', use_idf=True, smooth_idf=False, sublinear_tf=False).fit(cv_text)\n",
        "\n",
        "tfidf_df = pd.DataFrame(tfidf.idf_, index=cv.get_feature_names(),columns=[\"weights\"])\n",
        "print(\"top 25 most important words\")\n",
        "tfidf_df.sort_values(by=['weights']).head(25)"
      ],
      "execution_count": 38,
      "outputs": [
        {
          "output_type": "stream",
          "text": [
            "top 25 most important words\n"
          ],
          "name": "stdout"
        },
        {
          "output_type": "execute_result",
          "data": {
            "text/html": [
              "<div>\n",
              "<style scoped>\n",
              "    .dataframe tbody tr th:only-of-type {\n",
              "        vertical-align: middle;\n",
              "    }\n",
              "\n",
              "    .dataframe tbody tr th {\n",
              "        vertical-align: top;\n",
              "    }\n",
              "\n",
              "    .dataframe thead th {\n",
              "        text-align: right;\n",
              "    }\n",
              "</style>\n",
              "<table border=\"1\" class=\"dataframe\">\n",
              "  <thead>\n",
              "    <tr style=\"text-align: right;\">\n",
              "      <th></th>\n",
              "      <th>weights</th>\n",
              "    </tr>\n",
              "  </thead>\n",
              "  <tbody>\n",
              "    <tr>\n",
              "      <th>im</th>\n",
              "      <td>3.620014</td>\n",
              "    </tr>\n",
              "    <tr>\n",
              "      <th>know</th>\n",
              "      <td>3.727725</td>\n",
              "    </tr>\n",
              "    <tr>\n",
              "      <th>adora</th>\n",
              "      <td>3.893710</td>\n",
              "    </tr>\n",
              "    <tr>\n",
              "      <th>glimmer</th>\n",
              "      <td>4.054052</td>\n",
              "    </tr>\n",
              "    <tr>\n",
              "      <th>like</th>\n",
              "      <td>4.059502</td>\n",
              "    </tr>\n",
              "    <tr>\n",
              "      <th>okay</th>\n",
              "      <td>4.121494</td>\n",
              "    </tr>\n",
              "    <tr>\n",
              "      <th>horde</th>\n",
              "      <td>4.127325</td>\n",
              "    </tr>\n",
              "    <tr>\n",
              "      <th>catra</th>\n",
              "      <td>4.169122</td>\n",
              "    </tr>\n",
              "    <tr>\n",
              "      <th>oh</th>\n",
              "      <td>4.187584</td>\n",
              "    </tr>\n",
              "    <tr>\n",
              "      <th>right</th>\n",
              "      <td>4.292254</td>\n",
              "    </tr>\n",
              "    <tr>\n",
              "      <th>come</th>\n",
              "      <td>4.306144</td>\n",
              "    </tr>\n",
              "    <tr>\n",
              "      <th>need</th>\n",
              "      <td>4.334514</td>\n",
              "    </tr>\n",
              "    <tr>\n",
              "      <th>going</th>\n",
              "      <td>4.341735</td>\n",
              "    </tr>\n",
              "    <tr>\n",
              "      <th>think</th>\n",
              "      <td>4.424801</td>\n",
              "    </tr>\n",
              "    <tr>\n",
              "      <th>time</th>\n",
              "      <td>4.481496</td>\n",
              "    </tr>\n",
              "    <tr>\n",
              "      <th>shera</th>\n",
              "      <td>4.559458</td>\n",
              "    </tr>\n",
              "    <tr>\n",
              "      <th>bow</th>\n",
              "      <td>4.605549</td>\n",
              "    </tr>\n",
              "    <tr>\n",
              "      <th>hey</th>\n",
              "      <td>4.624597</td>\n",
              "    </tr>\n",
              "    <tr>\n",
              "      <th>thats</th>\n",
              "      <td>4.624597</td>\n",
              "    </tr>\n",
              "    <tr>\n",
              "      <th>got</th>\n",
              "      <td>4.694277</td>\n",
              "    </tr>\n",
              "    <tr>\n",
              "      <th>really</th>\n",
              "      <td>4.704640</td>\n",
              "    </tr>\n",
              "    <tr>\n",
              "      <th>uh</th>\n",
              "      <td>4.736389</td>\n",
              "    </tr>\n",
              "    <tr>\n",
              "      <th>good</th>\n",
              "      <td>4.791651</td>\n",
              "    </tr>\n",
              "    <tr>\n",
              "      <th>ive</th>\n",
              "      <td>4.838171</td>\n",
              "    </tr>\n",
              "    <tr>\n",
              "      <th>stop</th>\n",
              "      <td>4.850148</td>\n",
              "    </tr>\n",
              "  </tbody>\n",
              "</table>\n",
              "</div>"
            ],
            "text/plain": [
              "          weights\n",
              "im       3.620014\n",
              "know     3.727725\n",
              "adora    3.893710\n",
              "glimmer  4.054052\n",
              "like     4.059502\n",
              "okay     4.121494\n",
              "horde    4.127325\n",
              "catra    4.169122\n",
              "oh       4.187584\n",
              "right    4.292254\n",
              "come     4.306144\n",
              "need     4.334514\n",
              "going    4.341735\n",
              "think    4.424801\n",
              "time     4.481496\n",
              "shera    4.559458\n",
              "bow      4.605549\n",
              "hey      4.624597\n",
              "thats    4.624597\n",
              "got      4.694277\n",
              "really   4.704640\n",
              "uh       4.736389\n",
              "good     4.791651\n",
              "ive      4.838171\n",
              "stop     4.850148"
            ]
          },
          "metadata": {
            "tags": []
          },
          "execution_count": 38
        }
      ]
    },
    {
      "cell_type": "markdown",
      "metadata": {
        "id": "-gvzB_mOZ0b-",
        "colab_type": "text"
      },
      "source": [
        "# Data Modeling: Data Modeling: Can we predict which lines were spoken by Adora? or Catra? \n",
        "\n",
        "Since the show revolves around these two characters' relationship, I decided to make a model to predict each characters' lines. Let's see how well it works!"
      ]
    },
    {
      "cell_type": "code",
      "metadata": {
        "id": "OYyGUwQxZ9ib",
        "colab_type": "code",
        "colab": {}
      },
      "source": [
        "from sklearn.model_selection import train_test_split\n",
        "\n",
        "X_train, X_test, y_train, y_test = train_test_split(df['dialogue'],\n",
        "                                                    df['character'], test_size=0.33, random_state=42)"
      ],
      "execution_count": 0,
      "outputs": []
    },
    {
      "cell_type": "code",
      "metadata": {
        "id": "ojJa7qQNoX7U",
        "colab_type": "code",
        "colab": {}
      },
      "source": [
        "X_train.dropna(inplace=True)\n",
        "X_test.dropna(inplace=True)"
      ],
      "execution_count": 0,
      "outputs": []
    },
    {
      "cell_type": "code",
      "metadata": {
        "id": "ikAsjxwDnllm",
        "colab_type": "code",
        "colab": {}
      },
      "source": [
        "cv_train = cv.fit_transform(X_train)\n",
        "tfidf = TfidfTransformer(norm='l2', use_idf=True, smooth_idf=False, sublinear_tf=False).fit(cv_train)\n",
        "X_train_processed = tfidf.transform(cv_train)"
      ],
      "execution_count": 0,
      "outputs": []
    },
    {
      "cell_type": "code",
      "metadata": {
        "id": "DPtlm8S9oMIv",
        "colab_type": "code",
        "colab": {}
      },
      "source": [
        "cv_test = cv.transform(X_test)\n",
        "X_test_processed = tfidf.transform(cv_test)"
      ],
      "execution_count": 0,
      "outputs": []
    },
    {
      "cell_type": "markdown",
      "metadata": {
        "id": "5U8HLJP8lZoz",
        "colab_type": "text"
      },
      "source": [
        "## Predicting Adora's lines"
      ]
    },
    {
      "cell_type": "code",
      "metadata": {
        "id": "i6YBjRAYpGJK",
        "colab_type": "code",
        "colab": {}
      },
      "source": [
        "# split classes into Adora = 1, Everyone else = 0"
      ],
      "execution_count": 0,
      "outputs": []
    },
    {
      "cell_type": "markdown",
      "metadata": {
        "id": "WvGeZDQipYr3",
        "colab_type": "text"
      },
      "source": [
        "### Naive Bayes"
      ]
    },
    {
      "cell_type": "code",
      "metadata": {
        "id": "V0Z7G0sCpf1a",
        "colab_type": "code",
        "colab": {}
      },
      "source": [
        ""
      ],
      "execution_count": 0,
      "outputs": []
    },
    {
      "cell_type": "markdown",
      "metadata": {
        "id": "hb-fpxZspgPM",
        "colab_type": "text"
      },
      "source": [
        "### Logistic Regression"
      ]
    },
    {
      "cell_type": "code",
      "metadata": {
        "id": "zZnJmSo9pw9b",
        "colab_type": "code",
        "colab": {}
      },
      "source": [
        ""
      ],
      "execution_count": 0,
      "outputs": []
    },
    {
      "cell_type": "markdown",
      "metadata": {
        "id": "fuXb4321pwWB",
        "colab_type": "text"
      },
      "source": [
        "### SVM"
      ]
    },
    {
      "cell_type": "code",
      "metadata": {
        "id": "X85qMeqGpwCE",
        "colab_type": "code",
        "colab": {}
      },
      "source": [
        ""
      ],
      "execution_count": 0,
      "outputs": []
    },
    {
      "cell_type": "markdown",
      "metadata": {
        "id": "ecYbrM4Cp0Gx",
        "colab_type": "text"
      },
      "source": [
        "### Random Forest"
      ]
    },
    {
      "cell_type": "code",
      "metadata": {
        "id": "qhGLzObyp3cu",
        "colab_type": "code",
        "colab": {}
      },
      "source": [
        ""
      ],
      "execution_count": 0,
      "outputs": []
    },
    {
      "cell_type": "markdown",
      "metadata": {
        "id": "ugKt-sitp2wV",
        "colab_type": "text"
      },
      "source": [
        "### Gradient Boosting"
      ]
    },
    {
      "cell_type": "code",
      "metadata": {
        "id": "npErw3Hup2a4",
        "colab_type": "code",
        "colab": {}
      },
      "source": [
        ""
      ],
      "execution_count": 0,
      "outputs": []
    },
    {
      "cell_type": "markdown",
      "metadata": {
        "id": "7EQSXakppB3L",
        "colab_type": "text"
      },
      "source": [
        "## Predicting Catra's lines"
      ]
    },
    {
      "cell_type": "code",
      "metadata": {
        "id": "M5XpMEULpLgv",
        "colab_type": "code",
        "colab": {}
      },
      "source": [
        "#split classes into Catra = 1, Everyone else = 0"
      ],
      "execution_count": 0,
      "outputs": []
    },
    {
      "cell_type": "markdown",
      "metadata": {
        "colab_type": "text",
        "id": "JgL3HVvzp9Sx"
      },
      "source": [
        "### Naive Bayes"
      ]
    },
    {
      "cell_type": "code",
      "metadata": {
        "colab_type": "code",
        "id": "PJTBxE-zp9Sx",
        "colab": {}
      },
      "source": [
        ""
      ],
      "execution_count": 0,
      "outputs": []
    },
    {
      "cell_type": "markdown",
      "metadata": {
        "colab_type": "text",
        "id": "8M5jWBYap9Sz"
      },
      "source": [
        "### Logistic Regression"
      ]
    },
    {
      "cell_type": "code",
      "metadata": {
        "colab_type": "code",
        "id": "l0u1V_vNp9Sz",
        "colab": {}
      },
      "source": [
        ""
      ],
      "execution_count": 0,
      "outputs": []
    },
    {
      "cell_type": "markdown",
      "metadata": {
        "colab_type": "text",
        "id": "dWnRPze9p9S2"
      },
      "source": [
        "### SVM"
      ]
    },
    {
      "cell_type": "code",
      "metadata": {
        "colab_type": "code",
        "id": "MoR-PGwWp9S3",
        "colab": {}
      },
      "source": [
        ""
      ],
      "execution_count": 0,
      "outputs": []
    },
    {
      "cell_type": "markdown",
      "metadata": {
        "colab_type": "text",
        "id": "AcqARCu0p9S4"
      },
      "source": [
        "### Random Forest"
      ]
    },
    {
      "cell_type": "code",
      "metadata": {
        "colab_type": "code",
        "id": "ku7c5eqTp9S5",
        "colab": {}
      },
      "source": [
        ""
      ],
      "execution_count": 0,
      "outputs": []
    },
    {
      "cell_type": "markdown",
      "metadata": {
        "colab_type": "text",
        "id": "Kuix31w7p9S7"
      },
      "source": [
        "### Gradient Boosting"
      ]
    },
    {
      "cell_type": "code",
      "metadata": {
        "colab_type": "code",
        "id": "xjDH1PuQp9S7",
        "colab": {}
      },
      "source": [
        ""
      ],
      "execution_count": 0,
      "outputs": []
    },
    {
      "cell_type": "markdown",
      "metadata": {
        "id": "-HLK90Lhup5o",
        "colab_type": "text"
      },
      "source": [
        "# What are some relationships among words on this show? \n",
        "\n",
        "For this section, I will be creating a word network graph, showcasing the common bigrams, or pairs, of words used together on this show. I will also be looking at parts of speech within the dialogue. "
      ]
    },
    {
      "cell_type": "code",
      "metadata": {
        "id": "-YlbPZlWu17c",
        "colab_type": "code",
        "colab": {}
      },
      "source": [
        ""
      ],
      "execution_count": 0,
      "outputs": []
    },
    {
      "cell_type": "markdown",
      "metadata": {
        "id": "CiORqrErecUe",
        "colab_type": "text"
      },
      "source": [
        "# Word2Vec Exploration"
      ]
    },
    {
      "cell_type": "markdown",
      "metadata": {
        "id": "fvKjQxjKkFkd",
        "colab_type": "text"
      },
      "source": [
        "## Preprocessing"
      ]
    },
    {
      "cell_type": "code",
      "metadata": {
        "id": "m7LW0Fk8kQI5",
        "colab_type": "code",
        "outputId": "a0943170-89b2-4890-bc48-f095d427f433",
        "colab": {
          "base_uri": "https://localhost:8080/",
          "height": 189
        }
      },
      "source": [
        "#convert list of responses to df\n",
        "text_df = pd.DataFrame(text)\n",
        "text_df.head()"
      ],
      "execution_count": 47,
      "outputs": [
        {
          "output_type": "execute_result",
          "data": {
            "text/html": [
              "<div>\n",
              "<style scoped>\n",
              "    .dataframe tbody tr th:only-of-type {\n",
              "        vertical-align: middle;\n",
              "    }\n",
              "\n",
              "    .dataframe tbody tr th {\n",
              "        vertical-align: top;\n",
              "    }\n",
              "\n",
              "    .dataframe thead th {\n",
              "        text-align: right;\n",
              "    }\n",
              "</style>\n",
              "<table border=\"1\" class=\"dataframe\">\n",
              "  <thead>\n",
              "    <tr style=\"text-align: right;\">\n",
              "      <th></th>\n",
              "      <th>0</th>\n",
              "    </tr>\n",
              "  </thead>\n",
              "  <tbody>\n",
              "    <tr>\n",
              "      <th>0</th>\n",
              "      <td>hey princess looking me</td>\n",
              "    </tr>\n",
              "    <tr>\n",
              "      <th>1</th>\n",
              "      <td>squadrons report training area immediately ev...</td>\n",
              "    </tr>\n",
              "    <tr>\n",
              "      <th>2</th>\n",
              "      <td>psst anyone seen catra</td>\n",
              "    </tr>\n",
              "    <tr>\n",
              "      <th>3</th>\n",
              "      <td>again</td>\n",
              "    </tr>\n",
              "    <tr>\n",
              "      <th>4</th>\n",
              "      <td>attention cadets simulation begin heres scena...</td>\n",
              "    </tr>\n",
              "  </tbody>\n",
              "</table>\n",
              "</div>"
            ],
            "text/plain": [
              "                                                   0\n",
              "0                            hey princess looking me\n",
              "1   squadrons report training area immediately ev...\n",
              "2                             psst anyone seen catra\n",
              "3                                              again\n",
              "4   attention cadets simulation begin heres scena..."
            ]
          },
          "metadata": {
            "tags": []
          },
          "execution_count": 47
        }
      ]
    },
    {
      "cell_type": "code",
      "metadata": {
        "id": "DoeAkvOGkPAQ",
        "colab_type": "code",
        "colab": {}
      },
      "source": [
        "import re\n",
        "import spacy\n",
        "\n",
        "nlp = spacy.load('en', disable=['ner', 'parser'])"
      ],
      "execution_count": 0,
      "outputs": []
    },
    {
      "cell_type": "code",
      "metadata": {
        "id": "Pphq5VPekO-j",
        "colab_type": "code",
        "colab": {}
      },
      "source": [
        "def cleaning(doc):\n",
        "    # Lemmatizes and removes stopwords\n",
        "    # doc needs to be a spacy Doc object\n",
        "    txt = [token.lemma_ for token in doc if not token.is_stop]\n",
        "    # Word2Vec uses context words to learn the vector representation of a target word,\n",
        "    # if a sentence is only one or two words long,\n",
        "    # the benefit for the training is very small\n",
        "    if len(txt) > 2:\n",
        "        return ' '.join(txt)"
      ],
      "execution_count": 0,
      "outputs": []
    },
    {
      "cell_type": "code",
      "metadata": {
        "id": "Yd2syMAMmD6f",
        "colab_type": "code",
        "colab": {}
      },
      "source": [
        "brief_cleaning = (re.sub(\"[^A-Za-z']+\", ' ', str(row)).lower() for row in text_df[0])\n",
        "\n",
        "txt = [cleaning(doc) for doc in nlp.pipe(brief_cleaning, batch_size=5000, n_threads=-1)]"
      ],
      "execution_count": 0,
      "outputs": []
    },
    {
      "cell_type": "code",
      "metadata": {
        "id": "zfC92xjymD4o",
        "colab_type": "code",
        "outputId": "452294f1-f1ee-4de8-b1a2-be00ee8b1a24",
        "colab": {
          "base_uri": "https://localhost:8080/",
          "height": 34
        }
      },
      "source": [
        "df_clean = pd.DataFrame({'clean': txt})\n",
        "df_clean = df_clean.dropna().drop_duplicates()\n",
        "df_clean.shape"
      ],
      "execution_count": 51,
      "outputs": [
        {
          "output_type": "execute_result",
          "data": {
            "text/plain": [
              "(2916, 1)"
            ]
          },
          "metadata": {
            "tags": []
          },
          "execution_count": 51
        }
      ]
    },
    {
      "cell_type": "code",
      "metadata": {
        "id": "yKaiMjTimXfr",
        "colab_type": "code",
        "colab": {}
      },
      "source": [
        "text = [row.split() for row in df_clean['clean']]"
      ],
      "execution_count": 0,
      "outputs": []
    },
    {
      "cell_type": "markdown",
      "metadata": {
        "id": "wpk211ppkI5X",
        "colab_type": "text"
      },
      "source": [
        "## Gensim Word2Vec\n",
        "\n",
        "tutorial/source code: https://www.kaggle.com/pierremegret/gensim-word2vec-tutorial#Gensim-Word2Vec%C2%A0Tutorial"
      ]
    },
    {
      "cell_type": "code",
      "metadata": {
        "colab_type": "code",
        "id": "jTv2f3srhYpS",
        "outputId": "db7ece8b-0988-40b9-a964-58557dcf8861",
        "colab": {
          "base_uri": "https://localhost:8080/",
          "height": 448
        }
      },
      "source": [
        "pip install --upgrade gensim"
      ],
      "execution_count": 53,
      "outputs": [
        {
          "output_type": "stream",
          "text": [
            "Collecting gensim\n",
            "\u001b[?25l  Downloading https://files.pythonhosted.org/packages/2b/e0/fa6326251692056dc880a64eb22117e03269906ba55a6864864d24ec8b4e/gensim-3.8.3-cp36-cp36m-manylinux1_x86_64.whl (24.2MB)\n",
            "\u001b[K     |████████████████████████████████| 24.2MB 175kB/s \n",
            "\u001b[?25hRequirement already satisfied, skipping upgrade: numpy>=1.11.3 in /usr/local/lib/python3.6/dist-packages (from gensim) (1.18.5)\n",
            "Requirement already satisfied, skipping upgrade: smart-open>=1.8.1 in /usr/local/lib/python3.6/dist-packages (from gensim) (2.0.0)\n",
            "Requirement already satisfied, skipping upgrade: six>=1.5.0 in /usr/local/lib/python3.6/dist-packages (from gensim) (1.12.0)\n",
            "Requirement already satisfied, skipping upgrade: scipy>=0.18.1 in /usr/local/lib/python3.6/dist-packages (from gensim) (1.4.1)\n",
            "Requirement already satisfied, skipping upgrade: boto3 in /usr/local/lib/python3.6/dist-packages (from smart-open>=1.8.1->gensim) (1.13.23)\n",
            "Requirement already satisfied, skipping upgrade: boto in /usr/local/lib/python3.6/dist-packages (from smart-open>=1.8.1->gensim) (2.49.0)\n",
            "Requirement already satisfied, skipping upgrade: requests in /usr/local/lib/python3.6/dist-packages (from smart-open>=1.8.1->gensim) (2.23.0)\n",
            "Requirement already satisfied, skipping upgrade: jmespath<1.0.0,>=0.7.1 in /usr/local/lib/python3.6/dist-packages (from boto3->smart-open>=1.8.1->gensim) (0.10.0)\n",
            "Requirement already satisfied, skipping upgrade: s3transfer<0.4.0,>=0.3.0 in /usr/local/lib/python3.6/dist-packages (from boto3->smart-open>=1.8.1->gensim) (0.3.3)\n",
            "Requirement already satisfied, skipping upgrade: botocore<1.17.0,>=1.16.23 in /usr/local/lib/python3.6/dist-packages (from boto3->smart-open>=1.8.1->gensim) (1.16.23)\n",
            "Requirement already satisfied, skipping upgrade: chardet<4,>=3.0.2 in /usr/local/lib/python3.6/dist-packages (from requests->smart-open>=1.8.1->gensim) (3.0.4)\n",
            "Requirement already satisfied, skipping upgrade: idna<3,>=2.5 in /usr/local/lib/python3.6/dist-packages (from requests->smart-open>=1.8.1->gensim) (2.9)\n",
            "Requirement already satisfied, skipping upgrade: certifi>=2017.4.17 in /usr/local/lib/python3.6/dist-packages (from requests->smart-open>=1.8.1->gensim) (2020.4.5.1)\n",
            "Requirement already satisfied, skipping upgrade: urllib3!=1.25.0,!=1.25.1,<1.26,>=1.21.1 in /usr/local/lib/python3.6/dist-packages (from requests->smart-open>=1.8.1->gensim) (1.24.3)\n",
            "Requirement already satisfied, skipping upgrade: docutils<0.16,>=0.10 in /usr/local/lib/python3.6/dist-packages (from botocore<1.17.0,>=1.16.23->boto3->smart-open>=1.8.1->gensim) (0.15.2)\n",
            "Requirement already satisfied, skipping upgrade: python-dateutil<3.0.0,>=2.1 in /usr/local/lib/python3.6/dist-packages (from botocore<1.17.0,>=1.16.23->boto3->smart-open>=1.8.1->gensim) (2.8.1)\n",
            "Installing collected packages: gensim\n",
            "  Found existing installation: gensim 3.6.0\n",
            "    Uninstalling gensim-3.6.0:\n",
            "      Successfully uninstalled gensim-3.6.0\n",
            "Successfully installed gensim-3.8.3\n"
          ],
          "name": "stdout"
        }
      ]
    },
    {
      "cell_type": "code",
      "metadata": {
        "id": "dNJk22_IehYc",
        "colab_type": "code",
        "colab": {}
      },
      "source": [
        "from gensim.models.phrases import Phrases, Phraser"
      ],
      "execution_count": 0,
      "outputs": []
    },
    {
      "cell_type": "code",
      "metadata": {
        "id": "o3EXXUYFexEu",
        "colab_type": "code",
        "colab": {}
      },
      "source": [
        "# testing out with all data\n",
        "phrases = Phrases(text, min_count=30, progress_per=10000)"
      ],
      "execution_count": 0,
      "outputs": []
    },
    {
      "cell_type": "code",
      "metadata": {
        "id": "xrQkQG45hGdT",
        "colab_type": "code",
        "colab": {}
      },
      "source": [
        "#bigrams detected\n",
        "bigram = Phraser(phrases)\n",
        "\n",
        "bigrams = bigram[text]"
      ],
      "execution_count": 0,
      "outputs": []
    },
    {
      "cell_type": "code",
      "metadata": {
        "id": "Ar-W-gaShSqF",
        "colab_type": "code",
        "outputId": "b512b440-d739-4a02-91cb-1f9840f5264a",
        "colab": {
          "base_uri": "https://localhost:8080/",
          "height": 34
        }
      },
      "source": [
        "from collections import defaultdict\n",
        "word_freq = defaultdict(int)\n",
        "for text in bigrams:\n",
        "    for i in text:\n",
        "        word_freq[i] += 1\n",
        "len(word_freq)"
      ],
      "execution_count": 57,
      "outputs": [
        {
          "output_type": "execute_result",
          "data": {
            "text/plain": [
              "2975"
            ]
          },
          "metadata": {
            "tags": []
          },
          "execution_count": 57
        }
      ]
    },
    {
      "cell_type": "code",
      "metadata": {
        "id": "3FggxO5-iSWp",
        "colab_type": "code",
        "outputId": "fcba8a54-9e0d-4b4c-9628-90c5708bc5af",
        "colab": {
          "base_uri": "https://localhost:8080/",
          "height": 34
        }
      },
      "source": [
        "sorted(word_freq, key=word_freq.get, reverse=True)[:10]"
      ],
      "execution_count": 80,
      "outputs": [
        {
          "output_type": "execute_result",
          "data": {
            "text/plain": [
              "['s', 'know', 'be', 'like', 'adora', 'come', 'go', 'horde', 'glimmer', 'think']"
            ]
          },
          "metadata": {
            "tags": []
          },
          "execution_count": 80
        }
      ]
    },
    {
      "cell_type": "code",
      "metadata": {
        "id": "G742OXU6ik3V",
        "colab_type": "code",
        "colab": {}
      },
      "source": [
        "import multiprocessing\n",
        "from gensim.models import Word2Vec\n",
        "\n",
        "cores = multiprocessing.cpu_count()\n",
        "\n",
        "w2v_model = Word2Vec(min_count=5,\n",
        "                     window=2,\n",
        "                     size=300,\n",
        "                     sample=6e-5, \n",
        "                     alpha=0.03, \n",
        "                     min_alpha=0.0007, \n",
        "                     negative=20,\n",
        "                     workers=cores-1)\n"
      ],
      "execution_count": 0,
      "outputs": []
    },
    {
      "cell_type": "code",
      "metadata": {
        "id": "it4bwMGsjI0D",
        "colab_type": "code",
        "colab": {}
      },
      "source": [
        "w2v_model.build_vocab(bigrams, progress_per=10000)"
      ],
      "execution_count": 0,
      "outputs": []
    },
    {
      "cell_type": "code",
      "metadata": {
        "id": "5maniuEvjIdu",
        "colab_type": "code",
        "outputId": "0e8f97f8-9c08-4381-c448-99ef81cde352",
        "colab": {
          "base_uri": "https://localhost:8080/",
          "height": 34
        }
      },
      "source": [
        "w2v_model.train(bigrams, total_examples=w2v_model.corpus_count, epochs=30, report_delay=1)"
      ],
      "execution_count": 61,
      "outputs": [
        {
          "output_type": "execute_result",
          "data": {
            "text/plain": [
              "(86873, 530190)"
            ]
          },
          "metadata": {
            "tags": []
          },
          "execution_count": 61
        }
      ]
    },
    {
      "cell_type": "code",
      "metadata": {
        "id": "RmMdFE6MjLRl",
        "colab_type": "code",
        "colab": {}
      },
      "source": [
        "w2v_model.init_sims(replace=True)"
      ],
      "execution_count": 0,
      "outputs": []
    },
    {
      "cell_type": "markdown",
      "metadata": {
        "id": "HnKDWa4qm12v",
        "colab_type": "text"
      },
      "source": [
        "### Exploring \"Most Similar\" Function\n",
        "\n",
        "use this to input a word and find the top 10 most similar words in the corpus based on the data given. "
      ]
    },
    {
      "cell_type": "code",
      "metadata": {
        "id": "he9-m8e7jVQd",
        "colab_type": "code",
        "outputId": "a4e41872-53dd-42e2-95d1-b7670655ceae",
        "colab": {
          "base_uri": "https://localhost:8080/",
          "height": 196
        }
      },
      "source": [
        "w2v_model.wv.most_similar(positive=[\"shera\"])"
      ],
      "execution_count": 63,
      "outputs": [
        {
          "output_type": "execute_result",
          "data": {
            "text/plain": [
              "[('rescue', 0.9999346137046814),\n",
              " ('set', 0.9999332427978516),\n",
              " ('great', 0.9999330043792725),\n",
              " ('respect', 0.9999314546585083),\n",
              " ('finish', 0.9999310970306396),\n",
              " ('kind', 0.9999309778213501),\n",
              " ('probably', 0.999930739402771),\n",
              " ('thank', 0.999930739402771),\n",
              " ('kill', 0.9999300837516785),\n",
              " ('day', 0.9999299645423889)]"
            ]
          },
          "metadata": {
            "tags": []
          },
          "execution_count": 63
        }
      ]
    },
    {
      "cell_type": "code",
      "metadata": {
        "id": "hFBSCuLSjchK",
        "colab_type": "code",
        "outputId": "347fa6fb-9917-4db9-87a1-317920c0b66a",
        "colab": {
          "base_uri": "https://localhost:8080/",
          "height": 196
        }
      },
      "source": [
        "w2v_model.wv.most_similar(positive=[\"glimmer\"])"
      ],
      "execution_count": 64,
      "outputs": [
        {
          "output_type": "execute_result",
          "data": {
            "text/plain": [
              "[('day', 0.9999362230300903),\n",
              " ('fail', 0.9999322295188904),\n",
              " ('take', 0.9999310970306396),\n",
              " ('choose', 0.9999303221702576),\n",
              " ('mess', 0.9999291896820068),\n",
              " ('little', 0.9999286532402039),\n",
              " ('close', 0.9999285936355591),\n",
              " ('probably', 0.9999281167984009),\n",
              " ('good', 0.9999278783798218),\n",
              " ('signal', 0.9999275207519531)]"
            ]
          },
          "metadata": {
            "tags": []
          },
          "execution_count": 64
        }
      ]
    },
    {
      "cell_type": "code",
      "metadata": {
        "id": "YX0S7PqqjcdU",
        "colab_type": "code",
        "outputId": "bfe23822-1257-4a99-d784-bb918e935e5a",
        "colab": {
          "base_uri": "https://localhost:8080/",
          "height": 196
        }
      },
      "source": [
        "w2v_model.wv.most_similar(positive=[\"catra\"])"
      ],
      "execution_count": 65,
      "outputs": [
        {
          "output_type": "execute_result",
          "data": {
            "text/plain": [
              "[('come', 0.9999310970306396),\n",
              " ('ancient', 0.9999275803565979),\n",
              " ('scout', 0.9999274015426636),\n",
              " ('scorpia', 0.9999271631240845),\n",
              " ('uh', 0.9999271035194397),\n",
              " ('be', 0.9999270439147949),\n",
              " ('infect', 0.9999258518218994),\n",
              " ('kid', 0.9999256730079651),\n",
              " ('say', 0.9999254941940308),\n",
              " ('course', 0.9999253749847412)]"
            ]
          },
          "metadata": {
            "tags": []
          },
          "execution_count": 65
        }
      ]
    },
    {
      "cell_type": "code",
      "metadata": {
        "id": "YzPJzM6TnLRU",
        "colab_type": "code",
        "outputId": "23f48dd1-555f-4e9d-f0ad-7a1dfaa3eade",
        "colab": {
          "base_uri": "https://localhost:8080/",
          "height": 196
        }
      },
      "source": [
        "w2v_model.wv.most_similar(negative=[\"adora\"])"
      ],
      "execution_count": 66,
      "outputs": [
        {
          "output_type": "execute_result",
          "data": {
            "text/plain": [
              "[('boat', -0.9998814463615417),\n",
              " ('sit', -0.9998844861984253),\n",
              " ('wake', -0.9998865127563477),\n",
              " ('adventure', -0.9998866319656372),\n",
              " ('bug', -0.9998888969421387),\n",
              " ('distress', -0.9998894929885864),\n",
              " ('awful', -0.9998899102210999),\n",
              " ('minute', -0.9998899698257446),\n",
              " ('explain', -0.9998922348022461),\n",
              " ('majesty', -0.9998924732208252)]"
            ]
          },
          "metadata": {
            "tags": []
          },
          "execution_count": 66
        }
      ]
    },
    {
      "cell_type": "code",
      "metadata": {
        "id": "HZNFNzstnVCw",
        "colab_type": "code",
        "outputId": "7a44e808-e4b7-4d94-d1a8-9eea83ce3ec1",
        "colab": {
          "base_uri": "https://localhost:8080/",
          "height": 196
        }
      },
      "source": [
        "w2v_model.wv.most_similar(negative=[\"glimmer\"])"
      ],
      "execution_count": 68,
      "outputs": [
        {
          "output_type": "execute_result",
          "data": {
            "text/plain": [
              "[('careful', -0.9998853802680969),\n",
              " ('true', -0.999886155128479),\n",
              " ('boat', -0.9998863339424133),\n",
              " ('majesty', -0.9998890161514282),\n",
              " ('awful', -0.9998905658721924),\n",
              " ('awesome', -0.9998915195465088),\n",
              " ('color', -0.9998916983604431),\n",
              " ('absolutely', -0.9998916983604431),\n",
              " ('sit', -0.999893069267273),\n",
              " ('alive', -0.9998939037322998)]"
            ]
          },
          "metadata": {
            "tags": []
          },
          "execution_count": 68
        }
      ]
    },
    {
      "cell_type": "markdown",
      "metadata": {
        "id": "4KYTb9bxm7SM",
        "colab_type": "text"
      },
      "source": [
        "### Exploring \"Similarity\" Function\n",
        "\n",
        "use this to find the cosine similarity between two words you input. \n"
      ]
    },
    {
      "cell_type": "code",
      "metadata": {
        "id": "ggb3dLLujcbl",
        "colab_type": "code",
        "outputId": "365c7b98-3c9a-489a-b1b9-af9439251649",
        "colab": {
          "base_uri": "https://localhost:8080/",
          "height": 34
        }
      },
      "source": [
        "# similarities\n",
        "w2v_model.wv.similarity(\"adora\", 'shera')"
      ],
      "execution_count": 69,
      "outputs": [
        {
          "output_type": "execute_result",
          "data": {
            "text/plain": [
              "0.9999165"
            ]
          },
          "metadata": {
            "tags": []
          },
          "execution_count": 69
        }
      ]
    },
    {
      "cell_type": "code",
      "metadata": {
        "id": "5xzFsglyj3p6",
        "colab_type": "code",
        "outputId": "a239fd19-0f36-439c-d273-ef2da93aa3c1",
        "colab": {
          "base_uri": "https://localhost:8080/",
          "height": 34
        }
      },
      "source": [
        "w2v_model.wv.similarity(\"adora\", 'catra')"
      ],
      "execution_count": 70,
      "outputs": [
        {
          "output_type": "execute_result",
          "data": {
            "text/plain": [
              "0.99991846"
            ]
          },
          "metadata": {
            "tags": []
          },
          "execution_count": 70
        }
      ]
    },
    {
      "cell_type": "code",
      "metadata": {
        "id": "ndYrHi95j3TF",
        "colab_type": "code",
        "outputId": "d7562460-ca8f-4951-aee6-1a53713cae1c",
        "colab": {
          "base_uri": "https://localhost:8080/",
          "height": 34
        }
      },
      "source": [
        "w2v_model.wv.similarity(\"shadow_weaver\", 'horde')"
      ],
      "execution_count": 71,
      "outputs": [
        {
          "output_type": "execute_result",
          "data": {
            "text/plain": [
              "0.9999227"
            ]
          },
          "metadata": {
            "tags": []
          },
          "execution_count": 71
        }
      ]
    },
    {
      "cell_type": "markdown",
      "metadata": {
        "id": "mDZMgQarqKV0",
        "colab_type": "text"
      },
      "source": [
        "### Visualization\n",
        "\n",
        "\"we will look at the relationships between a query word (in **red**), its most similar words in the model (in **blue**), and other words from the vocabulary (in **green**)\""
      ]
    },
    {
      "cell_type": "code",
      "metadata": {
        "id": "D3BOPr20p58x",
        "colab_type": "code",
        "colab": {}
      },
      "source": [
        "import numpy as np\n",
        "import matplotlib.pyplot as plt\n",
        "%matplotlib inline\n",
        " \n",
        "import seaborn as sns\n",
        "sns.set_style(\"darkgrid\")\n",
        "\n",
        "from sklearn.decomposition import PCA\n",
        "from sklearn.manifold import TSNE"
      ],
      "execution_count": 0,
      "outputs": []
    },
    {
      "cell_type": "code",
      "metadata": {
        "id": "zIx3R6nHrhm9",
        "colab_type": "code",
        "colab": {}
      },
      "source": [
        "def tsnescatterplot(model, word, list_names):\n",
        "    \"\"\" Plot in seaborn the results from the t-SNE dimensionality reduction algorithm of the vectors of a query word,\n",
        "    its list of most similar words, and a list of words.\n",
        "    \"\"\"\n",
        "    arrays = np.empty((0, 300), dtype='f')\n",
        "    word_labels = [word]\n",
        "    color_list  = ['red']\n",
        "\n",
        "    # adds the vector of the query word\n",
        "    arrays = np.append(arrays, model.wv.__getitem__([word]), axis=0)\n",
        "    \n",
        "    # gets list of most similar words\n",
        "    close_words = model.wv.most_similar([word])\n",
        "    \n",
        "    # adds the vector for each of the closest words to the array\n",
        "    for wrd_score in close_words:\n",
        "        wrd_vector = model.wv.__getitem__([wrd_score[0]])\n",
        "        word_labels.append(wrd_score[0])\n",
        "        color_list.append('blue')\n",
        "        arrays = np.append(arrays, wrd_vector, axis=0)\n",
        "    \n",
        "    # adds the vector for each of the words from list_names to the array\n",
        "    for wrd in list_names:\n",
        "        wrd_vector = model.wv.__getitem__([wrd])\n",
        "        word_labels.append(wrd)\n",
        "        color_list.append('green')\n",
        "        arrays = np.append(arrays, wrd_vector, axis=0)\n",
        "        \n",
        "    # Reduces the dimensionality from 300 to 50 dimensions with PCA\n",
        "    reduc = PCA(n_components=20).fit_transform(arrays)\n",
        "    \n",
        "    # Finds t-SNE coordinates for 2 dimensions\n",
        "    np.set_printoptions(suppress=True)\n",
        "    \n",
        "    Y = TSNE(n_components=2, random_state=0, perplexity=15).fit_transform(reduc)\n",
        "    \n",
        "    # Sets everything up to plot\n",
        "    df = pd.DataFrame({'x': [x for x in Y[:, 0]],\n",
        "                       'y': [y for y in Y[:, 1]],\n",
        "                       'words': word_labels,\n",
        "                       'color': color_list})\n",
        "    \n",
        "    fig, _ = plt.subplots()\n",
        "    fig.set_size_inches(20,20)\n",
        "    \n",
        "    # Basic plot\n",
        "    p1 = sns.regplot(data=df,\n",
        "                     x=\"x\",\n",
        "                     y=\"y\",\n",
        "                     fit_reg=False,\n",
        "                     marker=\"o\",\n",
        "                     scatter_kws={'s': 40,\n",
        "                                  'facecolors': df['color']\n",
        "                                 }\n",
        "                    )\n",
        "    \n",
        "    # Adds annotations one by one with a loop\n",
        "    for line in range(0, df.shape[0]):\n",
        "         p1.text(df[\"x\"][line],\n",
        "                 df['y'][line],\n",
        "                 '  ' + df[\"words\"][line].title(),\n",
        "                 horizontalalignment='left',\n",
        "                 verticalalignment='bottom', size='medium',\n",
        "                 color=df['color'][line],\n",
        "                 weight='normal'\n",
        "                ).set_size(15)\n",
        "\n",
        "    \n",
        "    plt.xlim(Y[:, 0].min()-50, Y[:, 0].max()+50)\n",
        "    plt.ylim(Y[:, 1].min()-50, Y[:, 1].max()+50)\n",
        "            \n",
        "    plt.title('t-SNE visualization for {}'.format(word.title()))"
      ],
      "execution_count": 0,
      "outputs": []
    },
    {
      "cell_type": "markdown",
      "metadata": {
        "id": "sPquzXxGr64S",
        "colab_type": "text"
      },
      "source": [
        "#### Conflict"
      ]
    },
    {
      "cell_type": "code",
      "metadata": {
        "id": "aen7kpeIuYU_",
        "colab_type": "code",
        "outputId": "9c23818c-cb87-4115-9d9a-93a1a4a8de8a",
        "colab": {
          "base_uri": "https://localhost:8080/",
          "height": 1000
        }
      },
      "source": [
        "tsnescatterplot(w2v_model, 'adora', [i[0] for i in w2v_model.wv.most_similar(negative=[\"shera\"])])"
      ],
      "execution_count": 76,
      "outputs": [
        {
          "output_type": "display_data",
          "data": {
            "image/png": "[encoded data removed]",
            "text/plain": [
              "<Figure size 1440x1440 with 1 Axes>"
            ]
          },
          "metadata": {
            "tags": []
          }
        }
      ]
    },
    {
      "cell_type": "markdown",
      "metadata": {
        "id": "2HeIuXzsvCfW",
        "colab_type": "text"
      },
      "source": [
        "#### General Exploration"
      ]
    },
    {
      "cell_type": "code",
      "metadata": {
        "id": "kuYblUntu3DM",
        "colab_type": "code",
        "outputId": "eafe1f67-aadf-4c5f-e1d6-c16498b3fa35",
        "colab": {
          "base_uri": "https://localhost:8080/",
          "height": 1000
        }
      },
      "source": [
        "tsnescatterplot(w2v_model, 'team', [i[0] for i in w2v_model.wv.most_similar(negative=[\"team\"])])"
      ],
      "execution_count": 77,
      "outputs": [
        {
          "output_type": "display_data",
          "data": {
            "image/png": "[encoded data removed]",
            "text/plain": [
              "<Figure size 1440x1440 with 1 Axes>"
            ]
          },
          "metadata": {
            "tags": []
          }
        }
      ]
    },
    {
      "cell_type": "code",
      "metadata": {
        "id": "OxZD-QkCtXcJ",
        "colab_type": "code",
        "outputId": "425702da-4ff0-4d3d-c5fb-366b16002554",
        "colab": {
          "base_uri": "https://localhost:8080/",
          "height": 1000
        }
      },
      "source": [
        "tsnescatterplot(w2v_model, 'prom', [i[0] for i in w2v_model.wv.most_similar(negative=[\"prom\"])])"
      ],
      "execution_count": 78,
      "outputs": [
        {
          "output_type": "display_data",
          "data": {
            "image/png": "[encoded data removed]",
            "text/plain": [
              "<Figure size 1440x1440 with 1 Axes>"
            ]
          },
          "metadata": {
            "tags": []
          }
        }
      ]
    },
    {
      "cell_type": "code",
      "metadata": {
        "id": "EjP6FURXuF5C",
        "colab_type": "code",
        "colab": {}
      },
      "source": [
        ""
      ],
      "execution_count": 0,
      "outputs": []
    }
  ]
}