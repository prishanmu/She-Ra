{
  "nbformat": 4,
  "nbformat_minor": 0,
  "metadata": {
    "colab": {
      "name": "She-Ra Project.ipynb",
      "provenance": [],
      "toc_visible": true,
      "authorship_tag": "ABX9TyOWEygTH+P8kkow7GuP/lal",
      "include_colab_link": true
    },
    "kernelspec": {
      "name": "python3",
      "display_name": "Python 3"
    }
  },
  "cells": [
    {
      "cell_type": "markdown",
      "metadata": {
        "id": "view-in-github",
        "colab_type": "text"
      },
      "source": [
        "<a href=\"https://colab.research.google.com/github/prishanmu/She-Ra/blob/master/She_Ra_Project.ipynb\" target=\"_parent\"><img src=\"https://colab.research.google.com/assets/colab-badge.svg\" alt=\"Open In Colab\"/></a>"
      ]
    },
    {
      "cell_type": "markdown",
      "metadata": {
        "id": "kny5qFLWTUbS",
        "colab_type": "text"
      },
      "source": [
        "# A Look at the Princesses of Power\n",
        "\n",
        "GitHub Repo: https://github.com/prishanmu/She-Ra\n",
        "\n",
        "**Research Questions**: \n",
        "\n",
        "\n",
        "*   Who are the main or most active characters of this show? Does this change by season? \n",
        "*   What are the most common words used by characters in this show?\n",
        "* What are the most \"important\" words spoken by certain characters on this show? \n",
        "* What are some relationships among words on this show? \n",
        "* Sentiment Analysis by Character and Season\n",
        "* Data Modeling: Can we predict which lines were spoken by Adora? or Catra? \n",
        "\n",
        "\n"
      ]
    },
    {
      "cell_type": "markdown",
      "metadata": {
        "id": "UcHOubwoDvmT",
        "colab_type": "text"
      },
      "source": [
        "# Import Statements & Data"
      ]
    },
    {
      "cell_type": "code",
      "metadata": {
        "id": "twrh80QP-gjL",
        "colab_type": "code",
        "colab": {}
      },
      "source": [
        "import pandas as pd\n",
        "import matplotlib.pyplot as plt\n",
        "import seaborn as sns\n",
        "import numpy as np\n",
        "import re"
      ],
      "execution_count": 0,
      "outputs": []
    },
    {
      "cell_type": "code",
      "metadata": {
        "id": "zyMaNGCiJJpX",
        "colab_type": "code",
        "outputId": "42a785e5-6b72-4427-f6bc-26fb81f01522",
        "colab": {
          "base_uri": "https://localhost:8080/",
          "height": 189
        }
      },
      "source": [
        "df = pd.read_csv(\"she_ra_dialogue.csv\")\n",
        "df = df[df.dialogue!=' ']\n",
        "df.head()"
      ],
      "execution_count": 9,
      "outputs": [
        {
          "output_type": "execute_result",
          "data": {
            "text/html": [
              "<div>\n",
              "<style scoped>\n",
              "    .dataframe tbody tr th:only-of-type {\n",
              "        vertical-align: middle;\n",
              "    }\n",
              "\n",
              "    .dataframe tbody tr th {\n",
              "        vertical-align: top;\n",
              "    }\n",
              "\n",
              "    .dataframe thead th {\n",
              "        text-align: right;\n",
              "    }\n",
              "</style>\n",
              "<table border=\"1\" class=\"dataframe\">\n",
              "  <thead>\n",
              "    <tr style=\"text-align: right;\">\n",
              "      <th></th>\n",
              "      <th>character</th>\n",
              "      <th>dialogue</th>\n",
              "      <th>season</th>\n",
              "      <th>episode</th>\n",
              "    </tr>\n",
              "  </thead>\n",
              "  <tbody>\n",
              "    <tr>\n",
              "      <th>0</th>\n",
              "      <td>Adora</td>\n",
              "      <td>. Hey, princess. You looking at me?</td>\n",
              "      <td>1</td>\n",
              "      <td>1</td>\n",
              "    </tr>\n",
              "    <tr>\n",
              "      <th>1</th>\n",
              "      <td>Woman over PA</td>\n",
              "      <td>All squadrons, report to training area immedi...</td>\n",
              "      <td>1</td>\n",
              "      <td>1</td>\n",
              "    </tr>\n",
              "    <tr>\n",
              "      <th>2</th>\n",
              "      <td>Adora</td>\n",
              "      <td>Psst. Anyone seen Catra?</td>\n",
              "      <td>1</td>\n",
              "      <td>1</td>\n",
              "    </tr>\n",
              "    <tr>\n",
              "      <th>4</th>\n",
              "      <td>Adora</td>\n",
              "      <td>Not again.</td>\n",
              "      <td>1</td>\n",
              "      <td>1</td>\n",
              "    </tr>\n",
              "    <tr>\n",
              "      <th>5</th>\n",
              "      <td>Unknown Blue Horde Member</td>\n",
              "      <td>At attention, cadets. Your simulation is abou...</td>\n",
              "      <td>1</td>\n",
              "      <td>1</td>\n",
              "    </tr>\n",
              "  </tbody>\n",
              "</table>\n",
              "</div>"
            ],
            "text/plain": [
              "                   character  ... episode\n",
              "0                      Adora  ...       1\n",
              "1              Woman over PA  ...       1\n",
              "2                      Adora  ...       1\n",
              "4                      Adora  ...       1\n",
              "5  Unknown Blue Horde Member  ...       1\n",
              "\n",
              "[5 rows x 4 columns]"
            ]
          },
          "metadata": {
            "tags": []
          },
          "execution_count": 9
        }
      ]
    },
    {
      "cell_type": "markdown",
      "metadata": {
        "id": "oISrAeE7EGUW",
        "colab_type": "text"
      },
      "source": [
        "# Who are the main or most active characters of this show? Does this change by season?"
      ]
    },
    {
      "cell_type": "markdown",
      "metadata": {
        "id": "q8DphYViESzU",
        "colab_type": "text"
      },
      "source": [
        "Let's look at the characters with the highest number of lines: "
      ]
    },
    {
      "cell_type": "code",
      "metadata": {
        "id": "NlWwF3BiGX1h",
        "colab_type": "code",
        "outputId": "d85072f2-246d-46ab-abf1-0eff9444450b",
        "colab": {
          "base_uri": "https://localhost:8080/",
          "height": 643
        }
      },
      "source": [
        "sns.set(style=\"darkgrid\")\n",
        "\n",
        "s = df.character.value_counts()[:10]\n",
        "\n",
        "plt.figure(figsize=(20,10))\n",
        "s.plot(kind=\"bar\")\n",
        "plt.show()\n"
      ],
      "execution_count": 10,
      "outputs": [
        {
          "output_type": "display_data",
          "data": {
            "image/png": "[encoded data removed]",
            "text/plain": [
              "<Figure size 1440x720 with 1 Axes>"
            ]
          },
          "metadata": {
            "tags": []
          }
        }
      ]
    },
    {
      "cell_type": "markdown",
      "metadata": {
        "id": "DEsJNhoKLk0d",
        "colab_type": "text"
      },
      "source": [
        "Unsurprisingly, Adora, aka She-Ra, has the most lines in the show and is the main character. Glimmer, Bow, and Catra, some of the people closest to Adora, are also top contenders for most lines in the show. \n",
        "\n",
        "Let's see how this might differ depending on season. "
      ]
    },
    {
      "cell_type": "code",
      "metadata": {
        "id": "Fh1WyHAJGwXZ",
        "colab_type": "code",
        "outputId": "5af7a130-4a98-426e-a244-388d565bf320",
        "colab": {
          "base_uri": "https://localhost:8080/",
          "height": 610
        }
      },
      "source": [
        "sns.set(style=\"darkgrid\", palette = 'husl')\n",
        "\n",
        "plt.figure(figsize=(20,10))\n",
        "\n",
        "ax = sns.countplot(x=\"character\", data=df, hue='season', order=df.character.value_counts().iloc[:10].index)"
      ],
      "execution_count": 11,
      "outputs": [
        {
          "output_type": "display_data",
          "data": {
            "image/png": "[encoded data removed]",
            "text/plain": [
              "<Figure size 1440x720 with 1 Axes>"
            ]
          },
          "metadata": {
            "tags": []
          }
        }
      ]
    },
    {
      "cell_type": "markdown",
      "metadata": {
        "id": "YoGyrkWLPQqy",
        "colab_type": "text"
      },
      "source": [
        "**add conclusion here once more seasons are added**"
      ]
    },
    {
      "cell_type": "code",
      "metadata": {
        "id": "zALegO2U7r8l",
        "colab_type": "code",
        "colab": {}
      },
      "source": [
        ""
      ],
      "execution_count": 0,
      "outputs": []
    }
  ]
}